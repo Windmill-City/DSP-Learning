{
 "cells": [
  {
   "cell_type": "markdown",
   "source": [
    "ver: 20210922_1743"
   ],
   "metadata": {}
  },
  {
   "cell_type": "code",
   "execution_count": 1,
   "source": [
    "# Initialization for this notebook.\r\n",
    "\r\n",
    "import numpy as np\r\n",
    "import matplotlib.pyplot as plt\r\n",
    "\r\n",
    "# Un-comment the following line to use interactive matplotlib widget.\r\n",
    "#%matplotlib widget\r\n",
    "\r\n",
    "# Returns a n sequence based on the offset provided.\r\n",
    "seq_n = lambda seq, noff: np.arange(seq.size) - noff\r\n",
    "\r\n",
    "# Returns a flipped sequence.\r\n",
    "seq_flip = lambda seq, noff: (seq[::-1], seq.size - noff - 1)\r\n",
    "\r\n",
    "# Returns a shifted sequence.\r\n",
    "seq_shift = lambda seq, noff, m: (seq, noff - m)\r\n",
    "\r\n",
    "# Align 2 sequences\r\n",
    "def seq_align(seq1, noff1, seq2, noff2):\r\n",
    "    \"\"\"Align 2 sequences\"\"\"\r\n",
    "    n_min = min(-noff1, -noff2)\r\n",
    "    n_max = max(seq1.size-noff1-1, seq2.size-noff2-1)\r\n",
    "    seq1 = np.pad(seq1, (-noff1-n_min, n_max-(seq1.size-noff1-1)), constant_values=(0,0))\r\n",
    "    noff1 = -n_min\r\n",
    "    seq2 = np.pad(seq2, (-noff2-n_min, n_max-(seq2.size-noff2-1)), constant_values=(0,0))\r\n",
    "    noff2 = -n_min\r\n",
    "    return (seq1, noff1, seq2, noff2)"
   ],
   "outputs": [],
   "metadata": {}
  },
  {
   "cell_type": "markdown",
   "source": [
    "# 1.1.3 序列的卷积和"
   ],
   "metadata": {}
  },
  {
   "cell_type": "markdown",
   "source": [
    "$$ y(n) = x(n)*h(n) = \\sum_{m=-\\infty}^{\\infty} x(m)h(n-m) $$\n",
    "设 $x(n)=\\{1, \\underline{1/2}, 1/4, 1/8\\}$, $h(n)=R_3(n)$, 求 $y(n) = x(n)*h(n)$"
   ],
   "metadata": {}
  },
  {
   "cell_type": "markdown",
   "source": [
    "解：用对位相乘相加法，可得\n",
    "$$\n",
    "\\begin{array}{r}\n",
    "     x(n): &    &     &    1 & \\underline{0.5}   & 0.25  & 0.125 \\\\\n",
    "     h(n): &    &     &      &   \\underline{1}   &   1   &     1 \\\\\n",
    "    \\hline\n",
    "           &    &     &    1 & 0.5   & 0.25  & 0.125 \\\\\n",
    "           &    &   1 &  0.5 & 0.25  & 0.125 \\\\\n",
    "           &  1 & 0.5 & 0.25 & 0.125 \\\\\n",
    "   \\hline\n",
    "     y(n): & 1  & \\underline{1.5} & 1.75 & 0.875 & 0.375 & 0.125\n",
    "\\end{array}\n",
    "$$"
   ],
   "metadata": {}
  },
  {
   "cell_type": "code",
   "execution_count": 2,
   "source": [
    "# Define the sequences.\n",
    "\n",
    "x = np.array([1, 1/2, 1/4, 1/8]); noff_x = 1\n",
    "h = np.array([1, 1, 1]); noff_h = 0\n",
    "\n",
    "print(\"x =\", x, \", noff_x =\", noff_x)\n",
    "print(\"h =\", h, \", noff_h =\", noff_h)\n",
    "\n",
    "fig, axs = plt.subplots(2, 1, sharex=True, sharey=True)\n",
    "axs[0].stem(seq_n(x, noff_x), x)\n",
    "axs[0].set_ylabel('x(n)')\n",
    "axs[1].stem(seq_n(h, noff_h), h)\n",
    "axs[1].set_ylabel('h(n)')\n",
    "axs[1].set_xlabel('n')"
   ],
   "outputs": [
    {
     "output_type": "stream",
     "name": "stdout",
     "text": [
      "x = [1.    0.5   0.25  0.125] , noff_x = 1\n",
      "h = [1 1 1] , noff_h = 0\n"
     ]
    },
    {
     "output_type": "execute_result",
     "data": {
      "text/plain": [
       "Text(0.5, 0, 'n')"
      ]
     },
     "metadata": {},
     "execution_count": 2
    },
    {
     "output_type": "display_data",
     "data": {
      "image/png": "[encoded data removed]",
      "text/plain": [
       "<Figure size 432x288 with 2 Axes>"
      ]
     },
     "metadata": {
      "needs_background": "light"
     }
    }
   ],
   "metadata": {
    "tags": []
   }
  },
  {
   "cell_type": "markdown",
   "source": [
    "(1) 翻褶：选哑变量为$m$,作$x(m)$、$h(m)$,将$h(m)$以$m=0$的垂直轴为对称轴翻褶\n",
    "成$h(-m)$"
   ],
   "metadata": {}
  },
  {
   "cell_type": "code",
   "execution_count": 3,
   "source": [
    "(h_flip, noff_h_flip) = seq_flip(h, noff_h)\n",
    "\n",
    "print(\"h_flip =\", h_flip, \", noff_h_flip =\", noff_h_flip)\n",
    "\n",
    "fig, axs = plt.subplots(2, 1, sharex=True, sharey=True)\n",
    "axs[0].stem(seq_n(x, noff_x), x)\n",
    "axs[0].set_ylabel('x(m)')\n",
    "axs[1].stem(seq_n(h_flip, noff_h_flip), h_flip)\n",
    "axs[1].set_ylabel('h(-m)')\n",
    "axs[1].set_xlabel('m')"
   ],
   "outputs": [
    {
     "output_type": "stream",
     "name": "stdout",
     "text": [
      "h_flip = [1 1 1] , noff_h_flip = 2\n"
     ]
    },
    {
     "output_type": "execute_result",
     "data": {
      "text/plain": [
       "Text(0.5, 0, 'm')"
      ]
     },
     "metadata": {},
     "execution_count": 3
    },
    {
     "output_type": "display_data",
     "data": {
      "image/png": "[encoded data removed]",
      "text/plain": [
       "<Figure size 432x288 with 2 Axes>"
      ]
     },
     "metadata": {
      "needs_background": "light"
     }
    }
   ],
   "metadata": {
    "tags": []
   }
  },
  {
   "cell_type": "markdown",
   "source": [
    "(2) 移位：将$h(-m)$移位$n$，得$h(n-m)$。$n>0$时，右移$n$位，$n<0$时，左移$|n|$位。"
   ],
   "metadata": {}
  },
  {
   "cell_type": "code",
   "execution_count": 4,
   "source": [
    "n = -1\n",
    "\n",
    "(h_flip_shift, noff_h_flip_shift) = seq_shift(h_flip, noff_h_flip, n)\n",
    "\n",
    "print(\"h_flip_shift =\", h_flip_shift, \", noff_h_flip_shift =\", noff_h_flip_shift)\n",
    "\n",
    "fig, axs = plt.subplots(2, 1, sharex=True, sharey=True)\n",
    "axs[0].stem(seq_n(x, noff_x), x)\n",
    "axs[0].set_ylabel('x(m)')\n",
    "axs[1].stem(seq_n(h_flip_shift, noff_h_flip_shift), h_flip_shift)\n",
    "axs[1].set_ylabel('h(n-m)')\n",
    "axs[1].set_xlabel('m')"
   ],
   "outputs": [
    {
     "output_type": "stream",
     "name": "stdout",
     "text": [
      "h_flip_shift = [1 1 1] , noff_h_flip_shift = 3\n"
     ]
    },
    {
     "output_type": "execute_result",
     "data": {
      "text/plain": [
       "Text(0.5, 0, 'm')"
      ]
     },
     "metadata": {},
     "execution_count": 4
    },
    {
     "output_type": "display_data",
     "data": {
      "image/png": "[encoded data removed]",
      "text/plain": [
       "<Figure size 432x288 with 2 Axes>"
      ]
     },
     "metadata": {
      "needs_background": "light"
     }
    }
   ],
   "metadata": {
    "tags": []
   }
  },
  {
   "cell_type": "markdown",
   "source": [
    "(3) 相乘：将$h(n-m)$与$x(m)$在相同$m$处的对应值相乘。"
   ],
   "metadata": {}
  },
  {
   "cell_type": "code",
   "execution_count": 5,
   "source": [
    "(x1, noff_x1, h1, noff_h1) = seq_align(x, noff_x, h_flip_shift, noff_h_flip_shift)\n",
    "x_dot_h_flip_shift = x1*h1\n",
    "noff_x_dot_h_flip_shift = noff_x1\n",
    "\n",
    "fig, axs = plt.subplots(3, 1, sharex=True, sharey=True)\n",
    "axs[0].stem(seq_n(x, noff_x), x)\n",
    "axs[0].set_ylabel('x(m)')\n",
    "axs[1].stem(seq_n(h_flip_shift, noff_h_flip_shift), h_flip_shift)\n",
    "axs[1].set_ylabel('h(n-m)')\n",
    "axs[2].stem(seq_n(x_dot_h_flip_shift, noff_x_dot_h_flip_shift), x_dot_h_flip_shift)\n",
    "axs[2].set_ylabel('x(m)*h(n-m)')\n",
    "axs[1].set_xlabel('m')"
   ],
   "outputs": [
    {
     "output_type": "execute_result",
     "data": {
      "text/plain": [
       "Text(0.5, 0, 'm')"
      ]
     },
     "metadata": {},
     "execution_count": 5
    },
    {
     "output_type": "display_data",
     "data": {
      "image/png": "[encoded data removed]",
      "text/plain": [
       "<Figure size 432x288 with 3 Axes>"
      ]
     },
     "metadata": {
      "needs_background": "light"
     }
    }
   ],
   "metadata": {
    "tags": []
   }
  },
  {
   "cell_type": "markdown",
   "source": [
    "(4) 相加：将以上所有$m$处的乘积值叠加，就得到这一个$n$值下的$y(n)$值。"
   ],
   "metadata": {}
  },
  {
   "cell_type": "code",
   "execution_count": 6,
   "source": [
    "y = sum(x_dot_h_flip_shift)\n",
    "print(y)"
   ],
   "outputs": [
    {
     "output_type": "stream",
     "name": "stdout",
     "text": [
      "1.0\n"
     ]
    }
   ],
   "metadata": {
    "tags": []
   }
  },
  {
   "cell_type": "code",
   "execution_count": 7,
   "source": [
    "# Build a general function for computing convolution of two seqences.\n",
    "\n",
    "# The API of the function:\n",
    "#\n",
    "#  seq_conv(seq1, noff1, seq2, noff2)\n",
    "#     Returns the discrete, linear convolution of two sequences.\n",
    "#\n",
    "#     Parameters: \n",
    "#         seq1, seq2: array_like\n",
    "#             The 2 input sequences.\n",
    "#         noff1, noff： int\n",
    "#             n's offsets of the 2 input sequences.\n",
    "#     Returns: (seq, noff)\n",
    "#         seq: array_like\n",
    "#             The output sequence.\n",
    "#         noff: int\n",
    "#             n's offset of the output sequence.\n",
    "#\n",
    "# [To be completed by students.]\n",
    "# Note:\n",
    "# - Requires the function and its unit test.\n",
    "# - Must base on the code above. DO NOT use any built-in convolution functions!"
   ],
   "outputs": [],
   "metadata": {}
  }
 ],
 "metadata": {
  "kernelspec": {
   "name": "python3",
   "display_name": "Python 3.9.7 64-bit"
  },
  "language_info": {
   "codemirror_mode": {
    "name": "ipython",
    "version": 3
   },
   "file_extension": ".py",
   "mimetype": "text/x-python",
   "name": "python",
   "nbconvert_exporter": "python",
   "pygments_lexer": "ipython3",
   "version": "3.9.7"
  },
  "interpreter": {
   "hash": "fe44fef87f92f48a3a32707d0df204585f471652bc0ce87358a3ce712bc24db0"
  }
 },
 "nbformat": 4,
 "nbformat_minor": 4
}