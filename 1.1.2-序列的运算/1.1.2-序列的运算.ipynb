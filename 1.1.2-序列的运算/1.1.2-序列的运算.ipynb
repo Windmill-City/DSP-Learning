{
 "cells": [
  {
   "cell_type": "markdown",
   "source": [
    "ver: 20210916.1056"
   ],
   "metadata": {}
  },
  {
   "cell_type": "code",
   "execution_count": 5,
   "source": [
    "# Initialization for this notebook.\r\n",
    "\r\n",
    "import numpy as np\r\n",
    "import matplotlib.pyplot as plt\r\n",
    "\r\n",
    "# Un-comment the following line to use interactive matplotlib widget.\r\n",
    "#%matplotlib widget\r\n",
    "\r\n",
    "# Returns a n seqence based on the offset provided.\r\n",
    "seq_n = lambda seq, noff: np.arange(seq.size) - noff\r\n",
    "\r\n",
    "# Set a better print format for numpy values.\r\n",
    "np.set_printoptions(formatter={'float': '{: 0.3f}'.format, 'int': '{: 5d}'.format})"
   ],
   "outputs": [],
   "metadata": {}
  },
  {
   "cell_type": "markdown",
   "source": [
    "# 1.1 离散时间信号———序列\r\n",
    "\r\n",
    "## 1.1.2 序列的运算"
   ],
   "metadata": {
    "tags": []
   }
  },
  {
   "cell_type": "markdown",
   "source": [
    "### 1. 基于对幅度的运算"
   ],
   "metadata": {}
  },
  {
   "cell_type": "markdown",
   "source": [
    "**(1) 加法**\r\n",
    "$$ z(n) = x(n) + y(n) $$\r\n",
    "设 $x(n)=\\{1, \\underline{1/2}, 1/4, 1/8\\}$, $y(n)=\\{\\underline{1}, 3, 2\\}$, 求 $z(n)$"
   ],
   "metadata": {}
  },
  {
   "cell_type": "code",
   "execution_count": 6,
   "source": [
    "# Define the sequences.\r\n",
    "\r\n",
    "x = np.array([1, 1/2, 1/4, 1/8]); noff_x = 1\r\n",
    "print(\"x =\", x, \", noff_x =\", noff_x)\r\n",
    "\r\n",
    "y = np.array([1, 3, 2]); noff_y = 0\r\n",
    "print(\"y =\", y, \", noff_y =\", noff_y)"
   ],
   "outputs": [
    {
     "output_type": "stream",
     "name": "stdout",
     "text": [
      "x = [ 1.000  0.500  0.250  0.125] , noff_x = 1\n",
      "y = [    1     3     2] , noff_y = 0\n"
     ]
    }
   ],
   "metadata": {
    "tags": []
   }
  },
  {
   "cell_type": "code",
   "execution_count": 7,
   "source": [
    "# Numpy's \"+\" operator is element-wise addition. It should be what we need, right?\r\n",
    "# 不正确, 两个序列总的元素数量不一致\r\n",
    "z = x + y\r\n",
    "print(\"x =\", x)\r\n",
    "print(\"y =\", y)\r\n",
    "print(\"z =\", z)"
   ],
   "outputs": [
    {
     "output_type": "error",
     "ename": "ValueError",
     "evalue": "operands could not be broadcast together with shapes (4,) (3,) ",
     "traceback": [
      "\u001b[1;31m---------------------------------------------------------------------------\u001b[0m",
      "\u001b[1;31mValueError\u001b[0m                                Traceback (most recent call last)",
      "\u001b[1;32m~\\AppData\\Local\\Temp/ipykernel_11796/3283145516.py\u001b[0m in \u001b[0;36m<module>\u001b[1;34m\u001b[0m\n\u001b[0;32m      1\u001b[0m \u001b[1;31m# Numpy's \"+\" operator is element-wise addition. It should be what we need, right?\u001b[0m\u001b[1;33m\u001b[0m\u001b[1;33m\u001b[0m\u001b[0m\n\u001b[1;32m----> 2\u001b[1;33m \u001b[0mz\u001b[0m \u001b[1;33m=\u001b[0m \u001b[0mx\u001b[0m \u001b[1;33m+\u001b[0m \u001b[0my\u001b[0m\u001b[1;33m\u001b[0m\u001b[1;33m\u001b[0m\u001b[0m\n\u001b[0m\u001b[0;32m      3\u001b[0m \u001b[0mprint\u001b[0m\u001b[1;33m(\u001b[0m\u001b[1;34m\"x =\"\u001b[0m\u001b[1;33m,\u001b[0m \u001b[0mx\u001b[0m\u001b[1;33m)\u001b[0m\u001b[1;33m\u001b[0m\u001b[1;33m\u001b[0m\u001b[0m\n\u001b[0;32m      4\u001b[0m \u001b[0mprint\u001b[0m\u001b[1;33m(\u001b[0m\u001b[1;34m\"y =\"\u001b[0m\u001b[1;33m,\u001b[0m \u001b[0my\u001b[0m\u001b[1;33m)\u001b[0m\u001b[1;33m\u001b[0m\u001b[1;33m\u001b[0m\u001b[0m\n\u001b[0;32m      5\u001b[0m \u001b[0mprint\u001b[0m\u001b[1;33m(\u001b[0m\u001b[1;34m\"z =\"\u001b[0m\u001b[1;33m,\u001b[0m \u001b[0mz\u001b[0m\u001b[1;33m)\u001b[0m\u001b[1;33m\u001b[0m\u001b[1;33m\u001b[0m\u001b[0m\n",
      "\u001b[1;31mValueError\u001b[0m: operands could not be broadcast together with shapes (4,) (3,) "
     ]
    }
   ],
   "metadata": {
    "tags": []
   }
  },
  {
   "cell_type": "markdown",
   "source": [
    "\r\n",
    "当多个序列间进行运算操作时，需要注意操作对序列长度的要求。例如，加法等操作要求两个数组长度相同。如果数组长度不同，常用的方法就是补零。"
   ],
   "metadata": {}
  },
  {
   "cell_type": "code",
   "execution_count": null,
   "source": [
    "x = np.array([1, 1/2, 1/4, 1/8]); noff_x = 1\r\n",
    "y = np.array([1, 3, 2]); noff_y = 0\r\n",
    "\r\n",
    "# Pad y with 0, so that it has the same length as x\r\n",
    "y = np.concatenate((y, [0]))\r\n",
    "\r\n",
    "z = x + y\r\n",
    "print(\"x =\", x)\r\n",
    "print(\"y =\", y)\r\n",
    "print(\"z =\", z)\r\n",
    "\r\n",
    "# There is no error now, but does it mean the result is correct?\r\n",
    "# 不正确, 两个序列的偏移点没有对齐\r\n",
    "# Pay close attention to z's values!"
   ],
   "outputs": [
    {
     "output_type": "stream",
     "name": "stdout",
     "text": [
      "x = [ 1.000  0.500  0.250  0.125]\n",
      "y = [    1     3     2     0]\n",
      "z = [ 2.000  3.500  2.250  0.125]\n"
     ]
    }
   ],
   "metadata": {
    "tags": []
   }
  },
  {
   "cell_type": "code",
   "execution_count": null,
   "source": [
    "x = np.array([1, 1/2, 1/4, 1/8]); noff_x = 1\r\n",
    "y = np.array([1, 3, 2]); noff_y = 0\r\n",
    "\r\n",
    "# Let's plot x and y to see what happens.\r\n",
    "fig, axs = plt.subplots(2, 1, sharex=True, sharey=True)\r\n",
    "axs[0].stem(seq_n(x, noff_x), x)\r\n",
    "axs[0].set_ylabel('x(n)')\r\n",
    "axs[1].stem(seq_n(y, noff_y), y)\r\n",
    "axs[1].set_ylabel('y(n)')\r\n",
    "axs[1].set_xlabel('n')\r\n",
    "print(\"z =\", z)"
   ],
   "outputs": [
    {
     "output_type": "stream",
     "name": "stdout",
     "text": [
      "z = [ 2.000  3.500  2.250  0.125]\n"
     ]
    },
    {
     "output_type": "display_data",
     "data": {
      "image/png": "[encoded data removed]",
      "text/plain": [
       "<Figure size 432x288 with 2 Axes>"
      ]
     },
     "metadata": {
      "needs_background": "light"
     }
    }
   ],
   "metadata": {
    "tags": []
   }
  },
  {
   "cell_type": "markdown",
   "source": [
    "多序列运算，还特别需要注意所有数组相应于$n=0$的下标。一个常见的方法是运算前，先进行数组的对齐，即把各个数组前后补零，令到所有数组相应$n=0$的下标相同。"
   ],
   "metadata": {}
  },
  {
   "cell_type": "code",
   "execution_count": null,
   "source": [
    "x = np.array([1, 1/2, 1/4, 1/8]); noff_x = 1\r\n",
    "y = np.array([1, 3, 2]); noff_y = 0\r\n",
    "\r\n",
    "# Align x and y\r\n",
    "y = np.concatenate(([0], y))\r\n",
    "noff_y = noff_y + 1    # Why do this? 因为在数组前面补零，所以y数组起始元素偏移应加上补零的数量\r\n",
    "\r\n",
    "z = x + y\r\n",
    "noff_z = noff_x\r\n",
    "\r\n",
    "print(\"x =\", x, \", noff_x =\", noff_x)\r\n",
    "print(\"y =\", y, \", noff_y =\", noff_y)\r\n",
    "print(\"z =\", z, \", noff_z =\", noff_z)\r\n",
    "\r\n",
    "fig, axs = plt.subplots(3, 1, sharex=True, sharey=True)\r\n",
    "axs[0].stem(seq_n(x, noff_x), x)\r\n",
    "axs[0].set_ylabel('x(n)')\r\n",
    "axs[1].stem(seq_n(y, noff_y), y)\r\n",
    "axs[1].set_ylabel('y(n)')\r\n",
    "axs[2].stem(seq_n(z, noff_z), z)\r\n",
    "axs[2].set_ylabel('z(n)')\r\n",
    "axs[2].set_xlabel('n')"
   ],
   "outputs": [
    {
     "output_type": "stream",
     "name": "stdout",
     "text": [
      "x = [ 1.000  0.500  0.250  0.125] , noff_x = 1\n",
      "y = [    0     1     3     2] , noff_y = 1\n",
      "z = [ 1.000  1.500  3.250  2.125] , noff_z = 1\n"
     ]
    },
    {
     "output_type": "execute_result",
     "data": {
      "text/plain": [
       "Text(0.5, 0, 'n')"
      ]
     },
     "metadata": {},
     "execution_count": 6
    },
    {
     "output_type": "display_data",
     "data": {
      "image/png": "[encoded data removed]",
      "text/plain": [
       "<Figure size 432x288 with 3 Axes>"
      ]
     },
     "metadata": {
      "needs_background": "light"
     }
    }
   ],
   "metadata": {
    "tags": []
   }
  },
  {
   "cell_type": "markdown",
   "source": [
    "**(2) 乘法**\r\n",
    "$$ w(n)=x(n)y(n) $$\r\n",
    "设 $x(n)=\\{1, \\underline{1/2}, 1/4, 1/8\\}$, $y(n)=\\{1, 3, \\underline{2}\\}$, 求 $w(n)$"
   ],
   "metadata": {}
  },
  {
   "cell_type": "code",
   "execution_count": 114,
   "source": [
    "# 序列X\r\n",
    "seqX = np.array([1, 1/2, 1/4, 1/8])\r\n",
    "# 序列X的原点偏移\r\n",
    "offsetX = 1\r\n",
    "# 序列Y\r\n",
    "seqY = np.array([1, 3, 2])\r\n",
    "# 序列Y的原点偏移\r\n",
    "offsetY = 2\r\n",
    "\r\n",
    "\r\n",
    "def alignSequence(seq1, offset1, seq2, offset2):\r\n",
    "    # 原点左边最多多少个元素\r\n",
    "    maxLeft = max(offset1, offset2)\r\n",
    "    # 原点右边元素个数\r\n",
    "    eleAtRight1 = seq1.size - offset1 - 1\r\n",
    "    eleAtRight2 = seq2.size - offset2 - 1\r\n",
    "    # 原点右边最多多少个元素, -1 是因为不包括原点\r\n",
    "    maxRight = max(eleAtRight1, eleAtRight2)\r\n",
    "    # 在序列左边和右边补对应个数的0\r\n",
    "    seq1 = np.pad(seq1, (maxLeft - offset1,  # 左边补0个数\r\n",
    "                         maxRight - eleAtRight1),  # 右边补0个数\r\n",
    "                  constant_values=(0, 0))  # 补的元素\r\n",
    "    seq2 = np.pad(seq2, (maxLeft - offset2,  # 左边补0个数\r\n",
    "                         maxRight - eleAtRight2),  # 右边补0个数\r\n",
    "                  constant_values=(0, 0))  # 补的元素\r\n",
    "    return seq1, maxLeft, seq2, maxLeft\r\n",
    "\r\n",
    "\r\n",
    "def testAlignSequence():\r\n",
    "    # Define test sequence\r\n",
    "    seq1 = np.array([0, 1, 2, 3, 4, 5, 6])\r\n",
    "    seq2 = np.array([0, 1, 2])\r\n",
    "\r\n",
    "    def checkAlign(expected1, expected2, seq1, offset1, seq2, offset2):\r\n",
    "        # Align the sequence\r\n",
    "        seq1, offset, seq2, offset2 = alignSequence(\r\n",
    "            seq1, offset1, seq2, offset2)\r\n",
    "        # Check if offset is correct\r\n",
    "        assert offset == max(\r\n",
    "            offset1, offset2), f'Result offset:{offset} Input offset:{offset1}'\r\n",
    "        # Check if sequence is correct\r\n",
    "        assert (expected1 == seq1).all(\r\n",
    "        ), f'Expected1:{expected1} Actual1:{seq1}'\r\n",
    "        assert (expected2 == seq2).all(\r\n",
    "        ), f'Expected2:{expected2} Actual2:{seq2}'\r\n",
    "\r\n",
    "    checkAlign([0, 1, 2, 3, 4, 5, 6], [0, 1, 2, 0, 0, 0, 0], seq1, 0, seq2, 0)\r\n",
    "    checkAlign([0, 1, 2, 3, 4, 5, 6], [0, 0, 0, 1, 2, 0, 0], seq1, 3, seq2, 1)\r\n",
    "    checkAlign([0, 1, 2, 3, 4, 5, 6], [0, 0, 0, 0, 0, 1, 2], seq1, 6, seq2, 2)\r\n",
    "    checkAlign([0, 1, 2, 0, 0, 0, 0], [0, 1, 2, 3, 4, 5, 6], seq2, 0, seq1, 0)\r\n",
    "    checkAlign([0, 0, 0, 1, 2, 0, 0], [0, 1, 2, 3, 4, 5, 6], seq2, 1, seq1, 3)\r\n",
    "    checkAlign([0, 0, 0, 0, 0, 1, 2], [0, 1, 2, 3, 4, 5, 6], seq2, 2, seq1, 6)\r\n",
    "\r\n",
    "\r\n",
    "testAlignSequence()\r\n",
    "\r\n",
    "\r\n",
    "def multiplySequence(seq1, offset1, seq2, offset2):\r\n",
    "    seq1, offset1, seq2, offset2 = alignSequence(seq1, offset1, seq2, offset2)\r\n",
    "    # return multiplied result and its offset\r\n",
    "    return seq1 * seq2, offset1\r\n",
    "\r\n",
    "\r\n",
    "def testMultiplySequence():\r\n",
    "    # Define test sequence\r\n",
    "    seq1 = np.array([0, 1, 2, 3, 4, 5, 6])\r\n",
    "    seq2 = np.array([0, 1, 2])\r\n",
    "\r\n",
    "    def checkMultiply(expected, seq1, offset1, seq2, offset2):\r\n",
    "        # Calculate the multiply result\r\n",
    "        seq, offset = multiplySequence(seq1, offset1, seq2, offset2)\r\n",
    "        # Check if offset is correct\r\n",
    "        assert offset == offset1, f'Result offset:{offset} Input offset:{offset1}'\r\n",
    "        # Check if sequence is correct\r\n",
    "        assert (expected == seq).all(), f'Expected:{expected} Actual:{seq}'\r\n",
    "\r\n",
    "    checkMultiply([0, 1, 4, 0, 0, 0, 0], seq1, 0, seq2, 0)\r\n",
    "    checkMultiply([0, 0, 0, 3, 8, 0, 0], seq1, 3, seq2, 1)\r\n",
    "    checkMultiply([0, 0, 0, 0, 0, 5, 12], seq1, 6, seq2, 2)\r\n",
    "\r\n",
    "\r\n",
    "testMultiplySequence()\r\n",
    "\r\n",
    "\r\n",
    "def plotVertical(seqs, offsets, labels):\r\n",
    "    # Get the row number\r\n",
    "    row = len(seqs)\r\n",
    "    # Create a plot, which has specific row and 1 col, shares the same X and Y axis\r\n",
    "    figure, axe = plt.subplots(row, 1, sharex=True, sharey=True)\r\n",
    "    for i in range(row):\r\n",
    "        # Get the arguments\r\n",
    "        seq = seqs[i]\r\n",
    "        offset = offsets[i]\r\n",
    "        label = labels[i]\r\n",
    "        # Create a stem plot for seq\r\n",
    "        axe[i].stem(seq_n(seq, offset), seq)\r\n",
    "        # Set Y label\r\n",
    "        axe[i].set_ylabel(label)\r\n",
    "\r\n",
    "    # Set X label at the bottom\r\n",
    "    axe[row - 1].set_xlabel('n')\r\n",
    "\r\n",
    "\r\n",
    "# Calculate the Omega sequence and its offset\r\n",
    "seqOmega, offsetOmega = multiplySequence(seqX, offsetX, seqY, offsetY)\r\n",
    "# then plot it out\r\n",
    "plotVertical([seqX, seqY, seqOmega],\r\n",
    "             [offsetX, offsetY, offsetOmega],\r\n",
    "             [\"x(n)\", \"y(n)\", \"ω(n)\"])\r\n"
   ],
   "outputs": [
    {
     "output_type": "display_data",
     "data": {
      "image/png": "[encoded data removed]",
      "text/plain": [
       "<Figure size 432x288 with 3 Axes>"
      ]
     },
     "metadata": {
      "needs_background": "light"
     }
    }
   ],
   "metadata": {
    "tags": []
   }
  },
  {
   "cell_type": "code",
   "execution_count": null,
   "source": [
    "# [BEST PRACTICE] Build a general function for a commonly used operation.\r\n",
    "\r\n",
    "def seq_align(seq1, noff1, seq2, noff2):\r\n",
    "    \"\"\"Align 2 sequences\"\"\"\r\n",
    "    n_min = min(-noff1, -noff2)     # 原点左边最多多少个元素\r\n",
    "    n_max = max(seq1.size-noff1-1, seq2.size-noff2-1)   # 原点右边最多多少个元素\r\n",
    "    seq1 = np.pad(seq1, (-noff1-n_min, n_max-(seq1.size-noff1-1)),# (序列前面补元素的数目，序列后边补元素数目)\r\n",
    "                  constant_values=(0, 0))   # (序列前面补的元素，序列后边补的元素)\r\n",
    "    noff1 = -n_min  # 新序列原点的偏移\r\n",
    "    seq2 = np.pad(seq2, (-noff2-n_min, n_max-(seq2.size-noff2-1)),  # (序列前面补元素的数目，序列后边补元素数目)\r\n",
    "                  constant_values=(0, 0))   # (序列前面补的元素，序列后边补的元素)\r\n",
    "    noff2 = -n_min  # 新序列原点的偏移\r\n",
    "    return (seq1, noff1, seq2, noff2)\r\n",
    "\r\n",
    "# [BEST PRACTICE] Unit test for a complex function.\r\n",
    "# This is not a standard unit test.\r\n",
    "# It does not verify the result automatically, but let users to observe the plots.\r\n",
    "# Note that this is good for education but not for engineering.\r\n",
    "\r\n",
    "\r\n",
    "def test_seq_align():\r\n",
    "    \"\"\"Unit test for seq_align()\"\"\"\r\n",
    "    def show_aligned_seqs(x, noff_x, y, noff_y):\r\n",
    "        fig, axs = plt.subplots(2, 2, sharex=True, sharey=True)\r\n",
    "        axs[0, 0].set_title('original')\r\n",
    "        axs[0, 0].stem(seq_n(x, noff_x), x)\r\n",
    "        axs[0, 0].set_ylabel('x(n)')\r\n",
    "        axs[1, 0].stem(seq_n(y, noff_y), y)\r\n",
    "        axs[1, 0].set_ylabel('y(n)')\r\n",
    "        axs[1, 0].set_xlabel('n')\r\n",
    "\r\n",
    "        (x, noff_x, y, noff_y) = seq_align(x, noff_x, y, noff_y)\r\n",
    "\r\n",
    "        axs[0, 1].set_title('aligned')\r\n",
    "        axs[0, 1].stem(seq_n(x, noff_x), x)\r\n",
    "        axs[1, 1].stem(seq_n(y, noff_y), y)\r\n",
    "        axs[1, 1].set_xlabel('n')\r\n",
    "\r\n",
    "    show_aligned_seqs(np.array([1, 1/2, 1/4, 1/8]), 1, np.array([1, 3, 2]), 2)\r\n",
    "    show_aligned_seqs(np.array([1, 1/2, 1/4, 1/8]), 1, np.array([1, 3, 2]), 0)\r\n",
    "    show_aligned_seqs(np.array([1, 1/2, 1/4, 1/8]), -5, np.array([1, 3, 2]), 1)\r\n",
    "\r\n",
    "\r\n",
    "# Run the unit test.\r\n",
    "test_seq_align()\r\n"
   ],
   "outputs": [
    {
     "data": {
      "image/png": "[encoded data removed]",
      "text/plain": [
       "<Figure size 432x288 with 4 Axes>"
      ]
     },
     "metadata": {},
     "output_type": "display_data"
    },
    {
     "data": {
      "image/png": "[encoded data removed]",
      "text/plain": [
       "<Figure size 432x288 with 4 Axes>"
      ]
     },
     "metadata": {},
     "output_type": "display_data"
    },
    {
     "data": {
      "image/png": "[encoded data removed]",
      "text/plain": [
       "<Figure size 432x288 with 4 Axes>"
      ]
     },
     "metadata": {},
     "output_type": "display_data"
    }
   ],
   "metadata": {
    "tags": []
   }
  },
  {
   "cell_type": "markdown",
   "source": [
    "**(3) 累加**\r\n",
    "$$ y(n) = \\sum_{k=-\\infty}^{n}x(k) $$\r\n",
    "设 $x(n)=\\{1, \\underline{1/2}, 1/4, 1/8\\}$, 求 $y(n)$"
   ],
   "metadata": {}
  },
  {
   "cell_type": "code",
   "execution_count": null,
   "source": [
    "x = np.array([1, 1/2, 1/4, 1/8]); noff_x = 1\r\n",
    "\r\n",
    "# Why we need '+1' at the end? sum(x[0:k]) 意思是将从0开始(包括0)的k个数相加，k的取值从1到x.size, 而np.arange生成的序列取值范围是[0,x.size),所以要给每个元素都+1\r\n",
    "# Why use np.arange() instead of range()? np.arange生成的是np.array, 而range生成的是普通的array,不能使用+1语法给每个元素都+1\r\n",
    "y = np.array([sum(x[0:k]) for k in np.arange(x.size)+1])\r\n",
    "noff_y = noff_x\r\n",
    "\r\n",
    "print(\"x =\", x, \", noff_x =\", noff_x)\r\n",
    "print(\"y =\", y, \", noff_y =\", noff_y)"
   ],
   "outputs": [
    {
     "output_type": "stream",
     "name": "stdout",
     "text": [
      "x = [ 1.000  0.500  0.250  0.125] , noff_x = 1\n",
      "y = [ 1.000  1.500  1.750  1.875] , noff_y = 1\n"
     ]
    }
   ],
   "metadata": {
    "tags": []
   }
  },
  {
   "cell_type": "code",
   "execution_count": 24,
   "source": [
    "x = np.array([1, 1/2, 1/4, 1/8]); noff_x = 1\r\n",
    "\r\n",
    "# [BEST PRACTICE] Use built-in method whenever possible.\r\n",
    "y = x.cumsum()\r\n",
    "noff_y = noff_x\r\n",
    "\r\n",
    "print(\"x =\", x, \", noff_x =\", noff_x)\r\n",
    "print(\"y =\", y, \", noff_y =\", noff_y)"
   ],
   "outputs": [
    {
     "output_type": "stream",
     "name": "stdout",
     "text": [
      "x = [ 1.000  0.500  0.250  0.125] , noff_x = 1\n",
      "y = [ 1.000  1.500  1.750  1.875] , noff_y = 1\n"
     ]
    }
   ],
   "metadata": {
    "tags": []
   }
  },
  {
   "cell_type": "markdown",
   "source": [
    "**(4) 序列的绝对和**\r\n",
    "$$ S = \\sum_{n=-\\infty}^{\\infty} |x(n)| $$\r\n",
    "设 $x(n)=\\{1, \\underline{1/2}, 1/4, 1/8\\}$, 求 $S$"
   ],
   "metadata": {}
  },
  {
   "cell_type": "code",
   "execution_count": 115,
   "source": [
    "x = np.array([1, 1/2, 1/4, 1/8])\r\n",
    "noff_x = 1\r\n",
    "\r\n",
    "\r\n",
    "def absoluteSum(seq):\r\n",
    "    # Return sequence absolute sum\r\n",
    "    return np.abs(seq).cumsum()\r\n",
    "\r\n",
    "\r\n",
    "def testAbsoluteSum():\r\n",
    "    # Define test sequence\r\n",
    "    seq = np.array([-5, -4, -3, -2, -1, 0, 1, 2, 3, 4, 5])\r\n",
    "    # Check if result correct\r\n",
    "    assert ([5, 9, 12, 14, 15, 15, 16, 18, 21, 25, 30]\r\n",
    "            == absoluteSum(seq)).all()\r\n",
    "\r\n",
    "\r\n",
    "testAbsoluteSum()\r\n",
    "\r\n",
    "# Calculate the value of S\r\n",
    "S = absoluteSum(x)\r\n",
    "# Apply the offset of S\r\n",
    "offsetS = noff_x\r\n",
    "# Plot S\r\n",
    "plotVertical([x, S],\r\n",
    "             [noff_x, offsetS],\r\n",
    "             [\"x(n)\", \"S(n)\"])\r\n"
   ],
   "outputs": [
    {
     "output_type": "display_data",
     "data": {
      "image/png": "[encoded data removed]",
      "text/plain": [
       "<Figure size 432x288 with 2 Axes>"
      ]
     },
     "metadata": {
      "needs_background": "light"
     }
    }
   ],
   "metadata": {
    "tags": []
   }
  },
  {
   "cell_type": "markdown",
   "source": [
    "**(5) 序列的能量**\r\n",
    "$$ E[x(n)] = \\sum_{n=-\\infty}^{\\infty} |x(n)|^{2} $$\r\n",
    "设 $x(n)=\\{1, \\underline{1/2}, 1/4, 1/8\\}$, 求 $E[x(n)]$"
   ],
   "metadata": {}
  },
  {
   "cell_type": "code",
   "execution_count": 68,
   "source": [
    "x = np.array([1, 1/2, 1/4, 1/8]); noff_x = 1\r\n",
    "\r\n",
    "seq_energy = lambda x: np.sum(np.power(np.abs(x),2))\r\n",
    "\r\n",
    "E = seq_energy(x)\r\n",
    "\r\n",
    "print(\"x =\", x, \", noff_x =\", noff_x)\r\n",
    "print(\"E = \", E)"
   ],
   "outputs": [
    {
     "output_type": "stream",
     "name": "stdout",
     "text": [
      "x = [ 1.000  0.500  0.250  0.125] , noff_x = 1\n",
      "E =  1.328125\n"
     ]
    }
   ],
   "metadata": {
    "tags": []
   }
  },
  {
   "cell_type": "markdown",
   "source": [
    "**(6) 序列的平均功率**\r\n",
    "$$ P[x(n)] = \\lim_{N \\to \\infty} \\frac{1}{2N+1} \\sum_{n=-N}^{N} |x(n)|^2 $$\r\n",
    "对于周期信号，只需取一个周期 $N$ 的平均功率。\r\n",
    "\r\n",
    "对于有限长信号，只计算有效长度 $N$ 之内平均功率。\r\n",
    "$$ P[x(n)] = \\frac{1}{N} \\sum_{n=0}^{N-1} |x(n)|^2 $$\r\n",
    "设 $x(n)=\\{1, \\underline{1/2}, 1/4, 1/8\\}$, 求 $P[x(n)]$"
   ],
   "metadata": {}
  },
  {
   "cell_type": "code",
   "execution_count": 71,
   "source": [
    "def averagePower(seq):\r\n",
    "    return seq_energy(seq) / seq.size\r\n",
    "\r\n",
    "\r\n",
    "def testAveragePower():\r\n",
    "    # Define test sequence\r\n",
    "    seq = np.array([0, 1, 2, 3, 4, 5])\r\n",
    "    # Check if result is correct\r\n",
    "    assert averagePower(seq) - 9.1666 < 0.0001\r\n",
    "\r\n",
    "\r\n",
    "testAveragePower()\r\n",
    "\r\n",
    "# Define x sequence\r\n",
    "x = np.array([1, 1/2, 1/4, 1/8])\r\n",
    "# Offset of x sequence\r\n",
    "offsetX = 1\r\n",
    "\r\n",
    "P_avg = averagePower(x)\r\n",
    "print(f'Average Power:{P_avg}')\r\n"
   ],
   "outputs": [
    {
     "output_type": "stream",
     "name": "stdout",
     "text": [
      "Average Power:0.33203125\n"
     ]
    }
   ],
   "metadata": {
    "tags": []
   }
  },
  {
   "cell_type": "markdown",
   "source": [
    "### 2. 基于对变量的运算"
   ],
   "metadata": {}
  },
  {
   "cell_type": "markdown",
   "source": [
    "(1) 移位\r\n",
    "$$ y(n)=x(n-m) $$\r\n",
    "\r\n",
    "设 $x(n)=\\{1, \\underline{1/2}, 1/4, 1/8\\}$, 求 $y(n)=x(n+2)$"
   ],
   "metadata": {}
  },
  {
   "cell_type": "code",
   "execution_count": 78,
   "source": [
    "x = np.array([1, 1/2, 1/4, 1/8])\r\n",
    "noff_x = 1\r\n",
    "\r\n",
    "m = -2  # Why not m=2? 因为y(n)定义是x(n-m),但题目里是x(n+2), 计算得 m = -2\r\n",
    "\r\n",
    "# Build a general function.\r\n",
    "\r\n",
    "\r\n",
    "def seq_shift(seq, noff, m): return (seq, noff - m)   # Why noff-m? 因为y(n)定义是x(n-m)\r\n",
    "\r\n",
    "\r\n",
    "(y, noff_y) = seq_shift(x, noff_x, m)\r\n",
    "\r\n",
    "print(\"m =\", m)\r\n",
    "print(\"x =\", x, \", noff_x =\", noff_x)\r\n",
    "print(\"y =\", y, \", noff_y =\", noff_y)\r\n",
    "\r\n",
    "fig, axs = plt.subplots(2, 1, sharex=True, sharey=True)\r\n",
    "axs[0].stem(seq_n(x, noff_x), x)\r\n",
    "axs[0].set_ylabel('x(n)')\r\n",
    "axs[1].stem(seq_n(y, noff_y), y)\r\n",
    "axs[1].set_ylabel('y(n)')\r\n",
    "axs[1].set_xlabel('n')\r\n"
   ],
   "outputs": [
    {
     "output_type": "stream",
     "name": "stdout",
     "text": [
      "m = -2\n",
      "x = [ 1.000  0.500  0.250  0.125] , noff_x = 1\n",
      "y = [ 1.000  0.500  0.250  0.125] , noff_y = 3\n"
     ]
    },
    {
     "output_type": "execute_result",
     "data": {
      "text/plain": [
       "Text(0.5, 0, 'n')"
      ]
     },
     "metadata": {},
     "execution_count": 78
    },
    {
     "output_type": "display_data",
     "data": {
      "image/png": "[encoded data removed]",
      "text/plain": [
       "<Figure size 432x288 with 2 Axes>"
      ]
     },
     "metadata": {
      "needs_background": "light"
     }
    }
   ],
   "metadata": {
    "tags": []
   }
  },
  {
   "cell_type": "markdown",
   "source": [
    "(2) 翻褶\r\n",
    "$$ y(n)=x(-n) $$\r\n",
    "设 $x(n)=\\{1, \\underline{1/2}, 1/4, 1/8\\}$, 求 $y(n)=x(-n)$"
   ],
   "metadata": {}
  },
  {
   "cell_type": "code",
   "execution_count": 81,
   "source": [
    "x = np.array([1, 1/2, 1/4, 1/8])\r\n",
    "noff_x = 1\r\n",
    "\r\n",
    "y = x[::-1]\r\n",
    "noff_y = x.size - noff_x - 1\r\n",
    "\r\n",
    "print(\"x =\", x, \", noff_x =\", noff_x)\r\n",
    "print(\"y =\", y, \", noff_y =\", noff_y)\r\n",
    "\r\n",
    "fig, axs = plt.subplots(2, 1, sharex=True, sharey=True)\r\n",
    "axs[0].stem(seq_n(x, noff_x), x)\r\n",
    "axs[0].set_ylabel('x(n)')\r\n",
    "axs[1].stem(seq_n(y, noff_y), y)\r\n",
    "axs[1].set_ylabel('y(n)')\r\n",
    "axs[1].set_xlabel('n')\r\n"
   ],
   "outputs": [
    {
     "output_type": "stream",
     "name": "stdout",
     "text": [
      "x = [ 1.000  0.500  0.250  0.125] , noff_x = 1\n",
      "y = [ 0.125  0.250  0.500  1.000] , noff_y = 2\n"
     ]
    },
    {
     "output_type": "execute_result",
     "data": {
      "text/plain": [
       "Text(0.5, 0, 'n')"
      ]
     },
     "metadata": {},
     "execution_count": 81
    },
    {
     "output_type": "display_data",
     "data": {
      "image/png": "[encoded data removed]",
      "text/plain": [
       "<Figure size 432x288 with 2 Axes>"
      ]
     },
     "metadata": {
      "needs_background": "light"
     }
    }
   ],
   "metadata": {
    "tags": []
   }
  },
  {
   "cell_type": "markdown",
   "source": [
    "设 $x(n)=\\{1, \\underline{1/2}, 1/4, 1/8\\}$, 求 $y(n)=x(2-n)$"
   ],
   "metadata": {}
  },
  {
   "cell_type": "code",
   "execution_count": 98,
   "source": [
    "x = np.array([1, 1/2, 1/4, 1/8])\r\n",
    "noff_x = 1\r\n",
    "\r\n",
    "m = -2\r\n",
    "\r\n",
    "y = x[::-1]\r\n",
    "# Why +m, not -m? 因为此函数定义式应为y(n)=x(-n-m), 即y(n)=x(-(n+m)), 所以是+m\r\n",
    "noff_y = (x.size - noff_x - 1) + m\r\n",
    "\r\n",
    "print(\"x =\", x, \", noff_x =\", noff_x)\r\n",
    "print(\"y =\", y, \", noff_y =\", noff_y)\r\n",
    "\r\n",
    "fig, axs = plt.subplots(2, 1, sharex=True, sharey=True)\r\n",
    "axs[0].stem(seq_n(x, noff_x), x)\r\n",
    "axs[0].set_ylabel('x(n)')\r\n",
    "axs[1].stem(seq_n(y, noff_y), y)\r\n",
    "axs[1].set_ylabel('y(n)')\r\n",
    "axs[1].set_xlabel('n')\r\n"
   ],
   "outputs": [
    {
     "output_type": "stream",
     "name": "stdout",
     "text": [
      "x = [ 1.000  0.500  0.250  0.125] , noff_x = 1\n",
      "y = [ 0.125  0.250  0.500  1.000] , noff_y = 0\n"
     ]
    },
    {
     "output_type": "execute_result",
     "data": {
      "text/plain": [
       "Text(0.5, 0, 'n')"
      ]
     },
     "metadata": {},
     "execution_count": 98
    },
    {
     "output_type": "display_data",
     "data": {
      "image/png": "[encoded data removed]",
      "text/plain": [
       "<Figure size 432x288 with 2 Axes>"
      ]
     },
     "metadata": {
      "needs_background": "light"
     }
    }
   ],
   "metadata": {
    "tags": []
   }
  },
  {
   "cell_type": "code",
   "execution_count": 116,
   "source": [
    "# Build a general function for flipping a sequence.\r\n",
    "\r\n",
    "# The API of the function:\r\n",
    "#\r\n",
    "# seq_flip(seq, noff)\r\n",
    "#    Returns a flipped sequence.\r\n",
    "#\r\n",
    "#    Parameters:\r\n",
    "#        seq: array_like\r\n",
    "#             Input sequence.\r\n",
    "#        noff: int\r\n",
    "#             n's offset, i.e. the index of seq where n=0.\r\n",
    "#    Returns: (seq, noff)\r\n",
    "#        seq: array_like\r\n",
    "#             Output sequence.\r\n",
    "#        noff: int\r\n",
    "#             n's offset.\r\n",
    "\r\n",
    "# [To be completed by students.]\r\n",
    "# Note:\r\n",
    "# - Requires the function and its unit test.\r\n",
    "# - Follow the previous unit test example, test_seq_align().\r\n",
    "\r\n",
    "def seq_flip(seq, noff):\r\n",
    "    # Return the flipped sequence and its noff\r\n",
    "    return seq[::-1], seq.size - noff - 1\r\n",
    "\r\n",
    "\r\n",
    "def testSeq_flip():\r\n",
    "    def checkSeq_flip(expected, seq, noff):\r\n",
    "        # Convert the seq to np.array\r\n",
    "        seq = np.array(seq)\r\n",
    "        # Get the flipped sequence and its noff\r\n",
    "        seq2, noff2 = seq_flip(seq, noff)\r\n",
    "        # Plot the sequence\r\n",
    "        plotVertical([seq, seq2], [noff,  noff2], ['Origin', 'Flipped'])\r\n",
    "        # Check if result valid\r\n",
    "        assert (seq[::-1] == seq2).all(), f'Expected:{seq[::-1]} Actual:{seq2}'\r\n",
    "        assert expected == noff2, f'Expected:{expected} Actual:{noff2}'\r\n",
    "\r\n",
    "    # Test items\r\n",
    "    checkSeq_flip(5, [0, 1, 2, 3, 4, 5], 0)\r\n",
    "    checkSeq_flip(4, [0, 1, 2, 3, 4, 5], 1)\r\n",
    "    checkSeq_flip(3, [0, 1, 2, 3, 4, 5], 2)\r\n",
    "    checkSeq_flip(2, [0, 1, 2, 3, 4, 5], 3)\r\n",
    "    checkSeq_flip(1, [0, 1, 2, 3, 4, 5], 4)\r\n",
    "    checkSeq_flip(0, [0, 1, 2, 3, 4, 5], 5)\r\n",
    "\r\n",
    "\r\n",
    "# Run test seq_flip\r\n",
    "testSeq_flip()\r\n"
   ],
   "outputs": [
    {
     "output_type": "display_data",
     "data": {
      "image/png": "[encoded data removed]",
      "text/plain": [
       "<Figure size 432x288 with 2 Axes>"
      ]
     },
     "metadata": {
      "needs_background": "light"
     }
    },
    {
     "output_type": "display_data",
     "data": {
      "image/png": "[encoded data removed]",
      "text/plain": [
       "<Figure size 432x288 with 2 Axes>"
      ]
     },
     "metadata": {
      "needs_background": "light"
     }
    },
    {
     "output_type": "display_data",
     "data": {
      "image/png": "[encoded data removed]",
      "text/plain": [
       "<Figure size 432x288 with 2 Axes>"
      ]
     },
     "metadata": {
      "needs_background": "light"
     }
    },
    {
     "output_type": "display_data",
     "data": {
      "image/png": "[encoded data removed]",
      "text/plain": [
       "<Figure size 432x288 with 2 Axes>"
      ]
     },
     "metadata": {
      "needs_background": "light"
     }
    },
    {
     "output_type": "display_data",
     "data": {
      "image/png": "[encoded data removed]",
      "text/plain": [
       "<Figure size 432x288 with 2 Axes>"
      ]
     },
     "metadata": {
      "needs_background": "light"
     }
    },
    {
     "output_type": "display_data",
     "data": {
      "image/png": "[encoded data removed]",
      "text/plain": [
       "<Figure size 432x288 with 2 Axes>"
      ]
     },
     "metadata": {
      "needs_background": "light"
     }
    }
   ],
   "metadata": {}
  },
  {
   "cell_type": "code",
   "execution_count": 118,
   "source": [
    "# Repeat the above computation y(n)=x(2-n), but this time use seq_flip() and seq_shift() instead.\r\n",
    "\r\n",
    "# [To be completed by students.]\r\n",
    "seqX = np.array([1, 1/2, 1/4, 1/8])\r\n",
    "offsetX = 1\r\n",
    "\r\n",
    "# Flip the sequence first\r\n",
    "seqY, offsetY = seq_flip(seqX, offsetX)\r\n",
    "# the shift it\r\n",
    "seqZ, offsetZ = seq_shift(seqY, offsetY, 2)\r\n",
    "\r\n",
    "# Plot it\r\n",
    "plotVertical(\r\n",
    "    [seqX, seqY, seqZ],\r\n",
    "    [offsetX, offsetY, offsetZ],\r\n",
    "    [\"x(n)\", \"y(n)\", \"z(n)\"]\r\n",
    ")\r\n"
   ],
   "outputs": [
    {
     "output_type": "display_data",
     "data": {
      "image/png": "[encoded data removed]",
      "text/plain": [
       "<Figure size 432x288 with 3 Axes>"
      ]
     },
     "metadata": {
      "needs_background": "light"
     }
    }
   ],
   "metadata": {
    "tags": []
   }
  }
 ],
 "metadata": {
  "kernelspec": {
   "name": "python3",
   "display_name": "Python 3.9.7 64-bit (windows store)"
  },
  "language_info": {
   "codemirror_mode": {
    "name": "ipython",
    "version": 3
   },
   "file_extension": ".py",
   "mimetype": "text/x-python",
   "name": "python",
   "nbconvert_exporter": "python",
   "pygments_lexer": "ipython3",
   "version": "3.9.7"
  },
  "interpreter": {
   "hash": "cf09fe04e0b152d805dbf46488a22ab1fe67adade06232065d1a31a038bbeb91"
  }
 },
 "nbformat": 4,
 "nbformat_minor": 4
}