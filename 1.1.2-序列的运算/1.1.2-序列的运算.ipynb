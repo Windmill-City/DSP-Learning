{
 "cells": [
  {
   "cell_type": "markdown",
   "metadata": {},
   "source": [
    "ver: 20210916.1056"
   ]
  },
  {
   "cell_type": "code",
   "execution_count": 1,
   "metadata": {},
   "outputs": [],
   "source": [
    "# Initialization for this notebook.\n",
    "\n",
    "import numpy as np\n",
    "import matplotlib.pyplot as plt\n",
    "\n",
    "# Un-comment the following line to use interactive matplotlib widget.\n",
    "#%matplotlib widget\n",
    "\n",
    "# Returns a n seqence based on the offset provided.\n",
    "seq_n = lambda seq, noff: np.arange(seq.size) - noff\n",
    "\n",
    "# Set a better print format for numpy values.\n",
    "np.set_printoptions(formatter={'float': '{: 0.3f}'.format, 'int': '{: 5d}'.format})"
   ]
  },
  {
   "cell_type": "markdown",
   "metadata": {
    "tags": []
   },
   "source": [
    "# 1.1 离散时间信号———序列\n",
    "\n",
    "## 1.1.2 序列的运算"
   ]
  },
  {
   "cell_type": "markdown",
   "metadata": {},
   "source": [
    "### 1. 基于对幅度的运算"
   ]
  },
  {
   "cell_type": "markdown",
   "metadata": {},
   "source": [
    "**(1) 加法**\n",
    "$$ z(n) = x(n) + y(n) $$\n",
    "设 $x(n)=\\{1, \\underline{1/2}, 1/4, 1/8\\}$, $y(n)=\\{\\underline{1}, 3, 2\\}$, 求 $z(n)$"
   ]
  },
  {
   "cell_type": "code",
   "execution_count": 2,
   "metadata": {
    "tags": []
   },
   "outputs": [
    {
     "name": "stdout",
     "output_type": "stream",
     "text": [
      "x = [ 1.000  0.500  0.250  0.125] , noff_x = 1\n",
      "y = [    1     3     2] , noff_y = 0\n"
     ]
    }
   ],
   "source": [
    "# Define the sequences.\n",
    "\n",
    "x = np.array([1, 1/2, 1/4, 1/8]); noff_x = 1\n",
    "print(\"x =\", x, \", noff_x =\", noff_x)\n",
    "\n",
    "y = np.array([1, 3, 2]); noff_y = 0\n",
    "print(\"y =\", y, \", noff_y =\", noff_y)"
   ]
  },
  {
   "cell_type": "code",
   "execution_count": 3,
   "metadata": {
    "tags": []
   },
   "outputs": [
    {
     "ename": "ValueError",
     "evalue": "operands could not be broadcast together with shapes (4,) (3,) ",
     "output_type": "error",
     "traceback": [
      "\u001b[1;31m---------------------------------------------------------------------------\u001b[0m",
      "\u001b[1;31mValueError\u001b[0m                                Traceback (most recent call last)",
      "\u001b[1;32mT:\\Temp/ipykernel_3884/3283145516.py\u001b[0m in \u001b[0;36m<module>\u001b[1;34m\u001b[0m\n\u001b[0;32m      1\u001b[0m \u001b[1;31m# Numpy's \"+\" operator is element-wise addition. It should be what we need, right?\u001b[0m\u001b[1;33m\u001b[0m\u001b[1;33m\u001b[0m\u001b[1;33m\u001b[0m\u001b[0m\n\u001b[1;32m----> 2\u001b[1;33m \u001b[0mz\u001b[0m \u001b[1;33m=\u001b[0m \u001b[0mx\u001b[0m \u001b[1;33m+\u001b[0m \u001b[0my\u001b[0m\u001b[1;33m\u001b[0m\u001b[1;33m\u001b[0m\u001b[0m\n\u001b[0m\u001b[0;32m      3\u001b[0m \u001b[0mprint\u001b[0m\u001b[1;33m(\u001b[0m\u001b[1;34m\"x =\"\u001b[0m\u001b[1;33m,\u001b[0m \u001b[0mx\u001b[0m\u001b[1;33m)\u001b[0m\u001b[1;33m\u001b[0m\u001b[1;33m\u001b[0m\u001b[0m\n\u001b[0;32m      4\u001b[0m \u001b[0mprint\u001b[0m\u001b[1;33m(\u001b[0m\u001b[1;34m\"y =\"\u001b[0m\u001b[1;33m,\u001b[0m \u001b[0my\u001b[0m\u001b[1;33m)\u001b[0m\u001b[1;33m\u001b[0m\u001b[1;33m\u001b[0m\u001b[0m\n\u001b[0;32m      5\u001b[0m \u001b[0mprint\u001b[0m\u001b[1;33m(\u001b[0m\u001b[1;34m\"z =\"\u001b[0m\u001b[1;33m,\u001b[0m \u001b[0mz\u001b[0m\u001b[1;33m)\u001b[0m\u001b[1;33m\u001b[0m\u001b[1;33m\u001b[0m\u001b[0m\n",
      "\u001b[1;31mValueError\u001b[0m: operands could not be broadcast together with shapes (4,) (3,) "
     ]
    }
   ],
   "source": [
    "# Numpy's \"+\" operator is element-wise addition. It should be what we need, right?\n",
    "z = x + y\n",
    "print(\"x =\", x)\n",
    "print(\"y =\", y)\n",
    "print(\"z =\", z)"
   ]
  },
  {
   "cell_type": "markdown",
   "metadata": {},
   "source": [
    "\n",
    "当多个序列间进行运算操作时，需要注意操作对序列长度的要求。例如，加法等操作要求两个数组长度相同。如果数组长度不同，常用的方法就是补零。"
   ]
  },
  {
   "cell_type": "code",
   "execution_count": 4,
   "metadata": {
    "tags": []
   },
   "outputs": [
    {
     "name": "stdout",
     "output_type": "stream",
     "text": [
      "x = [ 1.000  0.500  0.250  0.125]\n",
      "y = [    1     3     2     0]\n",
      "z = [ 2.000  3.500  2.250  0.125]\n"
     ]
    }
   ],
   "source": [
    "x = np.array([1, 1/2, 1/4, 1/8]); noff_x = 1\n",
    "y = np.array([1, 3, 2]); noff_y = 0\n",
    "\n",
    "# Pad y with 0, so that it has the same length as x\n",
    "y = np.concatenate((y, [0]))\n",
    "\n",
    "z = x + y\n",
    "print(\"x =\", x)\n",
    "print(\"y =\", y)\n",
    "print(\"z =\", z)\n",
    "\n",
    "# There is no error now, but does it mean the result is correct?\n",
    "# Pay close attention to z's values!"
   ]
  },
  {
   "cell_type": "code",
   "execution_count": 5,
   "metadata": {
    "tags": []
   },
   "outputs": [
    {
     "name": "stdout",
     "output_type": "stream",
     "text": [
      "z = [ 2.000  3.500  2.250  0.125]\n"
     ]
    },
    {
     "data": {
      "image/png": "[encoded data removed]",
      "text/plain": [
       "<Figure size 432x288 with 2 Axes>"
      ]
     },
     "metadata": {
      "needs_background": "light"
     },
     "output_type": "display_data"
    }
   ],
   "source": [
    "x = np.array([1, 1/2, 1/4, 1/8]); noff_x = 1\n",
    "y = np.array([1, 3, 2]); noff_y = 0\n",
    "\n",
    "# Let's plot x and y to see what happens.\n",
    "fig, axs = plt.subplots(2, 1, sharex=True, sharey=True)\n",
    "axs[0].stem(seq_n(x, noff_x), x)\n",
    "axs[0].set_ylabel('x(n)')\n",
    "axs[1].stem(seq_n(y, noff_y), y)\n",
    "axs[1].set_ylabel('y(n)')\n",
    "axs[1].set_xlabel('n')\n",
    "print(\"z =\", z)"
   ]
  },
  {
   "cell_type": "markdown",
   "metadata": {},
   "source": [
    "多序列运算，还特别需要注意所有数组相应于$n=0$的下标。一个常见的方法是运算前，先进行数组的对齐，即把各个数组前后补零，令到所有数组相应$n=0$的下标相同。"
   ]
  },
  {
   "cell_type": "code",
   "execution_count": 6,
   "metadata": {
    "tags": []
   },
   "outputs": [
    {
     "name": "stdout",
     "output_type": "stream",
     "text": [
      "x = [ 1.000  0.500  0.250  0.125] , noff_x = 1\n",
      "y = [    0     1     3     2] , noff_y = 1\n",
      "z = [ 1.000  1.500  3.250  2.125] , noff_z = 1\n"
     ]
    },
    {
     "data": {
      "text/plain": [
       "Text(0.5, 0, 'n')"
      ]
     },
     "execution_count": 6,
     "metadata": {},
     "output_type": "execute_result"
    },
    {
     "data": {
      "image/png": "[encoded data removed]",
      "text/plain": [
       "<Figure size 432x288 with 3 Axes>"
      ]
     },
     "metadata": {
      "needs_background": "light"
     },
     "output_type": "display_data"
    }
   ],
   "source": [
    "x = np.array([1, 1/2, 1/4, 1/8]); noff_x = 1\n",
    "y = np.array([1, 3, 2]); noff_y = 0\n",
    "\n",
    "# Align x and y\n",
    "y = np.concatenate(([0], y))\n",
    "noff_y = noff_y + 1    # Why do this?\n",
    "\n",
    "z = x + y\n",
    "noff_z = noff_x\n",
    "\n",
    "print(\"x =\", x, \", noff_x =\", noff_x)\n",
    "print(\"y =\", y, \", noff_y =\", noff_y)\n",
    "print(\"z =\", z, \", noff_z =\", noff_z)\n",
    "\n",
    "fig, axs = plt.subplots(3, 1, sharex=True, sharey=True)\n",
    "axs[0].stem(seq_n(x, noff_x), x)\n",
    "axs[0].set_ylabel('x(n)')\n",
    "axs[1].stem(seq_n(y, noff_y), y)\n",
    "axs[1].set_ylabel('y(n)')\n",
    "axs[2].stem(seq_n(z, noff_z), z)\n",
    "axs[2].set_ylabel('z(n)')\n",
    "axs[2].set_xlabel('n')"
   ]
  },
  {
   "cell_type": "markdown",
   "metadata": {},
   "source": [
    "**(2) 乘法**\n",
    "$$ w(n)=x(n)y(n) $$\n",
    "设 $x(n)=\\{1, \\underline{1/2}, 1/4, 1/8\\}$, $y(n)=\\{1, 3, \\underline{2}\\}$, 求 $w(n)$"
   ]
  },
  {
   "cell_type": "code",
   "execution_count": null,
   "metadata": {
    "tags": []
   },
   "outputs": [],
   "source": [
    "# [To be completed by students.]\n"
   ]
  },
  {
   "cell_type": "code",
   "execution_count": 7,
   "metadata": {
    "tags": []
   },
   "outputs": [
    {
     "data": {
      "image/png": "[encoded data removed]",
      "text/plain": [
       "<Figure size 432x288 with 4 Axes>"
      ]
     },
     "metadata": {
      "needs_background": "light"
     },
     "output_type": "display_data"
    },
    {
     "data": {
      "image/png": "[encoded data removed]",
      "text/plain": [
       "<Figure size 432x288 with 4 Axes>"
      ]
     },
     "metadata": {
      "needs_background": "light"
     },
     "output_type": "display_data"
    },
    {
     "data": {
      "image/png": "[encoded data removed]",
      "text/plain": [
       "<Figure size 432x288 with 4 Axes>"
      ]
     },
     "metadata": {
      "needs_background": "light"
     },
     "output_type": "display_data"
    }
   ],
   "source": [
    "# [BEST PRACTICE] Build a general function for a commonly used operation.\n",
    "\n",
    "def seq_align(seq1, noff1, seq2, noff2):\n",
    "    \"\"\"Align 2 sequences\"\"\"\n",
    "    n_min = min(-noff1, -noff2)     # ?\n",
    "    n_max = max(seq1.size-noff1-1, seq2.size-noff2-1)   # ?\n",
    "    seq1 = np.pad(seq1, (-noff1-n_min, n_max-(seq1.size-noff1-1)), constant_values=(0,0))   # ?\n",
    "    noff1 = -n_min  # ?\n",
    "    seq2 = np.pad(seq2, (-noff2-n_min, n_max-(seq2.size-noff2-1)), constant_values=(0,0))   # ?\n",
    "    noff2 = -n_min  # ?\n",
    "    return (seq1, noff1, seq2, noff2)\n",
    "\n",
    "# [BEST PRACTICE] Unit test for a complex function.\n",
    "# This is not a standard unit test.\n",
    "# It does not verify the result automatically, but let users to observe the plots.\n",
    "# Note that this is good for education but not for engineering.\n",
    "def test_seq_align():\n",
    "    \"\"\"Unit test for seq_align()\"\"\"\n",
    "    def show_aligned_seqs(x, noff_x, y, noff_y):\n",
    "        fig, axs = plt.subplots(2, 2, sharex=True, sharey=True)\n",
    "        axs[0, 0].set_title('original')\n",
    "        axs[0, 0].stem(seq_n(x, noff_x), x)\n",
    "        axs[0, 0].set_ylabel('x(n)')\n",
    "        axs[1, 0].stem(seq_n(y, noff_y), y)\n",
    "        axs[1, 0].set_ylabel('y(n)')\n",
    "        axs[1, 0].set_xlabel('n')\n",
    "\n",
    "        (x, noff_x, y, noff_y) = seq_align(x, noff_x, y, noff_y)\n",
    "\n",
    "        axs[0, 1].set_title('aligned')\n",
    "        axs[0, 1].stem(seq_n(x, noff_x), x)\n",
    "        axs[1, 1].stem(seq_n(y, noff_y), y)\n",
    "        axs[1, 1].set_xlabel('n')\n",
    "\n",
    "    show_aligned_seqs(np.array([1, 1/2, 1/4, 1/8]), 1, np.array([1, 3, 2]), 2)\n",
    "    show_aligned_seqs(np.array([1, 1/2, 1/4, 1/8]), 1, np.array([1, 3, 2]), 0)\n",
    "    show_aligned_seqs(np.array([1, 1/2, 1/4, 1/8]), -5, np.array([1, 3, 2]), 1)\n",
    "\n",
    "# Run the unit test.\n",
    "test_seq_align()"
   ]
  },
  {
   "cell_type": "markdown",
   "metadata": {},
   "source": [
    "**(3) 累加**\n",
    "$$ y(n) = \\sum_{k=-\\infty}^{n}x(k) $$\n",
    "设 $x(n)=\\{1, \\underline{1/2}, 1/4, 1/8\\}$, 求 $y(n)$"
   ]
  },
  {
   "cell_type": "code",
   "execution_count": 8,
   "metadata": {
    "tags": []
   },
   "outputs": [
    {
     "name": "stdout",
     "output_type": "stream",
     "text": [
      "x = [ 1.000  0.500  0.250  0.125] , noff_x = 1\n",
      "y = [ 1.000  1.500  1.750  1.875] , noff_y = 1\n"
     ]
    }
   ],
   "source": [
    "x = np.array([1, 1/2, 1/4, 1/8]); noff_x = 1\n",
    "\n",
    "# Why we need '+1' at the end?\n",
    "# Why use np.arange() instead of range()?\n",
    "y = np.array([sum(x[0:k]) for k in np.arange(x.size)+1])\n",
    "noff_y = noff_x\n",
    "\n",
    "print(\"x =\", x, \", noff_x =\", noff_x)\n",
    "print(\"y =\", y, \", noff_y =\", noff_y)"
   ]
  },
  {
   "cell_type": "code",
   "execution_count": 9,
   "metadata": {
    "tags": []
   },
   "outputs": [
    {
     "name": "stdout",
     "output_type": "stream",
     "text": [
      "x = [ 1.000  0.500  0.250  0.125] , noff_x = 1\n",
      "y = [ 1.000  1.500  1.750  1.875] , noff_y = 1\n"
     ]
    }
   ],
   "source": [
    "x = np.array([1, 1/2, 1/4, 1/8]); noff_x = 1\n",
    "\n",
    "# [BEST PRACTICE] Use built-in method whenever possible.\n",
    "y = x.cumsum()\n",
    "noff_y = noff_x\n",
    "\n",
    "print(\"x =\", x, \", noff_x =\", noff_x)\n",
    "print(\"y =\", y, \", noff_y =\", noff_y)"
   ]
  },
  {
   "cell_type": "markdown",
   "metadata": {},
   "source": [
    "**(4) 序列的绝对和**\n",
    "$$ S = \\sum_{n=-\\infty}^{\\infty} |x(n)| $$\n",
    "设 $x(n)=\\{1, \\underline{1/2}, 1/4, 1/8\\}$, 求 $S$"
   ]
  },
  {
   "cell_type": "code",
   "execution_count": null,
   "metadata": {
    "tags": []
   },
   "outputs": [],
   "source": [
    "x = np.array([1, 1/2, 1/4, 1/8]); noff_x = 1\n",
    "\n",
    "# [To be completed by students.]"
   ]
  },
  {
   "cell_type": "markdown",
   "metadata": {},
   "source": [
    "**(5) 序列的能量**\n",
    "$$ E[x(n)] = \\sum_{n=-\\infty}^{\\infty} |x(n)|^{2} $$\n",
    "设 $x(n)=\\{1, \\underline{1/2}, 1/4, 1/8\\}$, 求 $E[x(n)]$"
   ]
  },
  {
   "cell_type": "code",
   "execution_count": 10,
   "metadata": {
    "tags": []
   },
   "outputs": [
    {
     "name": "stdout",
     "output_type": "stream",
     "text": [
      "x = [ 1.000  0.500  0.250  0.125] , noff_x = 1\n",
      "E =  1.328125\n"
     ]
    }
   ],
   "source": [
    "x = np.array([1, 1/2, 1/4, 1/8]); noff_x = 1\n",
    "\n",
    "seq_energy = lambda x: np.sum(np.power(np.abs(x),2))\n",
    "\n",
    "E = seq_energy(x)\n",
    "\n",
    "print(\"x =\", x, \", noff_x =\", noff_x)\n",
    "print(\"E = \", E)"
   ]
  },
  {
   "cell_type": "markdown",
   "metadata": {},
   "source": [
    "**(6) 序列的平均功率**\n",
    "$$ P[x(n)] = \\lim_{N \\to \\infty} \\frac{1}{2N+1} \\sum_{n=-N}^{N} |x(n)|^2 $$\n",
    "对于周期信号，只需取一个周期 $N$ 的平均功率。\n",
    "\n",
    "对于有限长信号，只计算有效长度 $N$ 之内平均功率。\n",
    "$$ P[x(n)] = \\frac{1}{N} \\sum_{n=0}^{N-1} |x(n)|^2 $$\n",
    "设 $x(n)=\\{1, \\underline{1/2}, 1/4, 1/8\\}$, 求 $P[x(n)]$"
   ]
  },
  {
   "cell_type": "code",
   "execution_count": null,
   "metadata": {
    "tags": []
   },
   "outputs": [],
   "source": [
    "# [To be completed by students.]"
   ]
  },
  {
   "cell_type": "markdown",
   "metadata": {},
   "source": [
    "### 2. 基于对变量的运算"
   ]
  },
  {
   "cell_type": "markdown",
   "metadata": {},
   "source": [
    "(1) 移位\n",
    "$$ y(n)=x(n-m) $$\n",
    "\n",
    "设 $x(n)=\\{1, \\underline{1/2}, 1/4, 1/8\\}$, 求 $y(n)=x(n+2)$"
   ]
  },
  {
   "cell_type": "code",
   "execution_count": 11,
   "metadata": {
    "tags": []
   },
   "outputs": [
    {
     "name": "stdout",
     "output_type": "stream",
     "text": [
      "m = -2\n",
      "x = [ 1.000  0.500  0.250  0.125] , noff_x = 1\n",
      "y = [ 1.000  0.500  0.250  0.125] , noff_y = 3\n"
     ]
    },
    {
     "data": {
      "text/plain": [
       "Text(0.5, 0, 'n')"
      ]
     },
     "execution_count": 11,
     "metadata": {},
     "output_type": "execute_result"
    },
    {
     "data": {
      "image/png": "[encoded data removed]",
      "text/plain": [
       "<Figure size 432x288 with 2 Axes>"
      ]
     },
     "metadata": {
      "needs_background": "light"
     },
     "output_type": "display_data"
    }
   ],
   "source": [
    "x = np.array([1, 1/2, 1/4, 1/8]); noff_x = 1\n",
    "\n",
    "m = -2  # Why not m=2?\n",
    "\n",
    "# Build a general function.\n",
    "seq_shift = lambda seq, noff, m: (seq, noff - m)   # Why noff-m?\n",
    "\n",
    "(y, noff_y) = seq_shift(x, noff_x, m)\n",
    "\n",
    "print(\"m =\", m)\n",
    "print(\"x =\", x, \", noff_x =\", noff_x)\n",
    "print(\"y =\", y, \", noff_y =\", noff_y)\n",
    "\n",
    "fig, axs = plt.subplots(2, 1, sharex=True, sharey=True)\n",
    "axs[0].stem(seq_n(x, noff_x), x)\n",
    "axs[0].set_ylabel('x(n)')\n",
    "axs[1].stem(seq_n(y, noff_y), y)\n",
    "axs[1].set_ylabel('y(n)')\n",
    "axs[1].set_xlabel('n')"
   ]
  },
  {
   "cell_type": "markdown",
   "metadata": {},
   "source": [
    "(2) 翻褶\n",
    "$$ y(n)=x(-n) $$\n",
    "设 $x(n)=\\{1, \\underline{1/2}, 1/4, 1/8\\}$, 求 $y(n)=x(-n)$"
   ]
  },
  {
   "cell_type": "code",
   "execution_count": 12,
   "metadata": {
    "tags": []
   },
   "outputs": [
    {
     "name": "stdout",
     "output_type": "stream",
     "text": [
      "x = [ 1.000  0.500  0.250  0.125] , noff_x = 1\n",
      "y = [ 0.125  0.250  0.500  1.000] , noff_y = 2\n"
     ]
    },
    {
     "data": {
      "text/plain": [
       "Text(0.5, 0, 'n')"
      ]
     },
     "execution_count": 12,
     "metadata": {},
     "output_type": "execute_result"
    },
    {
     "data": {
      "image/png": "[encoded data removed]",
      "text/plain": [
       "<Figure size 432x288 with 2 Axes>"
      ]
     },
     "metadata": {
      "needs_background": "light"
     },
     "output_type": "display_data"
    }
   ],
   "source": [
    "x = np.array([1, 1/2, 1/4, 1/8]); noff_x = 1\n",
    "\n",
    "y = x[::-1]\n",
    "noff_y = x.size - noff_x - 1\n",
    "\n",
    "print(\"x =\", x, \", noff_x =\", noff_x)\n",
    "print(\"y =\", y, \", noff_y =\", noff_y)\n",
    "\n",
    "fig, axs = plt.subplots(2, 1, sharex=True, sharey=True)\n",
    "axs[0].stem(seq_n(x, noff_x), x)\n",
    "axs[0].set_ylabel('x(n)')\n",
    "axs[1].stem(seq_n(y, noff_y), y)\n",
    "axs[1].set_ylabel('y(n)')\n",
    "axs[1].set_xlabel('n')"
   ]
  },
  {
   "cell_type": "markdown",
   "metadata": {},
   "source": [
    "设 $x(n)=\\{1, \\underline{1/2}, 1/4, 1/8\\}$, 求 $y(n)=x(2-n)$"
   ]
  },
  {
   "cell_type": "code",
   "execution_count": 13,
   "metadata": {
    "tags": []
   },
   "outputs": [
    {
     "name": "stdout",
     "output_type": "stream",
     "text": [
      "x = [ 1.000  0.500  0.250  0.125] , noff_x = 1\n",
      "y = [ 0.125  0.250  0.500  1.000] , noff_y = 0\n"
     ]
    },
    {
     "data": {
      "text/plain": [
       "Text(0.5, 0, 'n')"
      ]
     },
     "execution_count": 13,
     "metadata": {},
     "output_type": "execute_result"
    },
    {
     "data": {
      "image/png": "[encoded data removed]",
      "text/plain": [
       "<Figure size 432x288 with 2 Axes>"
      ]
     },
     "metadata": {
      "needs_background": "light"
     },
     "output_type": "display_data"
    }
   ],
   "source": [
    "x = np.array([1, 1/2, 1/4, 1/8]); noff_x = 1\n",
    "\n",
    "m = -2\n",
    "\n",
    "y = x[::-1]\n",
    "noff_y = (x.size - noff_x - 1) + m  # Why +m, not -m?\n",
    "\n",
    "print(\"x =\", x, \", noff_x =\", noff_x)\n",
    "print(\"y =\", y, \", noff_y =\", noff_y)\n",
    "\n",
    "fig, axs = plt.subplots(2, 1, sharex=True, sharey=True)\n",
    "axs[0].stem(seq_n(x, noff_x), x)\n",
    "axs[0].set_ylabel('x(n)')\n",
    "axs[1].stem(seq_n(y, noff_y), y)\n",
    "axs[1].set_ylabel('y(n)')\n",
    "axs[1].set_xlabel('n')"
   ]
  },
  {
   "cell_type": "code",
   "execution_count": null,
   "metadata": {},
   "outputs": [],
   "source": [
    "# Build a general function for flipping a seqence.\n",
    "\n",
    "# The API of the function:\n",
    "#\n",
    "# seq_flip(seq, noff)\n",
    "#    Returns a flipped sequence.\n",
    "#\n",
    "#    Parameters: \n",
    "#        seq: array_like\n",
    "#             Input sequence.\n",
    "#        noff: int\n",
    "#             n's offset, i.e. the index of seq where n=0.\n",
    "#    Returns: (seq, noff)\n",
    "#        seq: array_like\n",
    "#             Output sequence.\n",
    "#        noff: int\n",
    "#             n's offset.\n",
    "\n",
    "# [To be completed by students.]\n",
    "# Note:\n",
    "# - Requires the function and its unit test.\n",
    "# - Follow the previous unit test example, test_seq_align()."
   ]
  },
  {
   "cell_type": "code",
   "execution_count": null,
   "metadata": {
    "tags": []
   },
   "outputs": [],
   "source": [
    "# Repeat the above computation y(n)=x(2-n), but this time use seq_flip() and seq_shift() instead.\n",
    "\n",
    "# [To be completed by students.]"
   ]
  }
 ],
 "metadata": {
  "kernelspec": {
   "display_name": "Python 3 (ipykernel)",
   "language": "python",
   "name": "python3"
  },
  "language_info": {
   "codemirror_mode": {
    "name": "ipython",
    "version": 3
   },
   "file_extension": ".py",
   "mimetype": "text/x-python",
   "name": "python",
   "nbconvert_exporter": "python",
   "pygments_lexer": "ipython3",
   "version": "3.9.5"
  }
 },
 "nbformat": 4,
 "nbformat_minor": 4
}
