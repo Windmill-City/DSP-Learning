{
 "cells": [
  {
   "cell_type": "code",
   "execution_count": 1,
   "source": [
    "# Initialization for this notebook.\r\n",
    "\r\n",
    "import numpy as np\r\n",
    "import matplotlib.pyplot as plt\r\n",
    "\r\n",
    "# Un-comment the following line to use interactive matplotlib widget.\r\n",
    "#%matplotlib widget"
   ],
   "outputs": [],
   "metadata": {}
  },
  {
   "cell_type": "markdown",
   "source": [
    "# 1.1 离散时间信号———序列"
   ],
   "metadata": {}
  },
  {
   "cell_type": "markdown",
   "source": [
    "## 1.1.1 序列"
   ],
   "metadata": {}
  },
  {
   "cell_type": "markdown",
   "source": [
    "$$ x(n)=x_a(t)|_{t=nT}=x_a(nT) $$\r\n",
    "\r\n",
    "序列在计算机程序中，通常使用数组来实现。例如，在Python中实现 $ x(n)=\\{-5, -3, \\underline{-1}, 0, 2, 7, 9\\} $ 可以是："
   ],
   "metadata": {}
  },
  {
   "cell_type": "code",
   "execution_count": 2,
   "source": [
    "x = np.array([-5, -3, -1, 0, 2, 7, 9])\r\n",
    "print(\"x =\", x)"
   ],
   "outputs": [
    {
     "output_type": "stream",
     "name": "stdout",
     "text": [
      "x = [-5 -3 -1  0  2  7  9]\n"
     ]
    }
   ],
   "metadata": {
    "tags": []
   }
  },
  {
   "cell_type": "code",
   "execution_count": 3,
   "source": [
    "# Pay close attention to the values!\r\n",
    "print(x[-1], x[0], x[1])"
   ],
   "outputs": [
    {
     "output_type": "stream",
     "name": "stdout",
     "text": [
      "9 -5 -3\n"
     ]
    }
   ],
   "metadata": {
    "tags": []
   }
  },
  {
   "cell_type": "markdown",
   "source": [
    "理论的序列，下标取值范围是**整个整数集合**。但在大多数计算机语言中，数组的下标是**从一个固定的数值开始**。如Python/C/C++/Java等是从0开始，MATLAB是从1开始。因此，要特别小心下标的正确转换。\r\n",
    "\r\n",
    "一种常见解决方法是，为序列记录下它 $n=0$ 时对应的数组下标，称为（$n$ 的）偏移量(offset)。这样，理论上序列的值$x(n)$就和数组值`x[n+noff]`相对应了。"
   ],
   "metadata": {}
  },
  {
   "cell_type": "code",
   "execution_count": 4,
   "source": [
    "# Define a sequence and it's offset.\r\n",
    "x = np.array([-5, -3, -1, 0, 2, 7, 9])\r\n",
    "noff_x = 2  # Offset of n for sequence x. Meaning x[noff_x] is x(n=0).\r\n",
    "\r\n",
    "print(\"x =\", x, \", noff_x =\", noff_x)\r\n",
    "print(\"[x_n(-1), x_n(0), x_n(1)] = [\", x[-1+noff_x], x[0+noff_x], x[1+noff_x], \"]\")"
   ],
   "outputs": [
    {
     "output_type": "stream",
     "name": "stdout",
     "text": [
      "x = [-5 -3 -1  0  2  7  9] , noff_x = 2\n",
      "[x_n(-1), x_n(0), x_n(1)] = [ -3 -1 0 ]\n"
     ]
    }
   ],
   "metadata": {
    "tags": []
   }
  },
  {
   "cell_type": "code",
   "execution_count": 5,
   "source": [
    "# To get the \"theoretical\" x(n).\r\n",
    "# Note: As a function, it can only \"get\", not \"set\" the value!\r\n",
    "x_n = lambda n: x[n +noff_x]\r\n",
    "\r\n",
    "print(\"x =\", x, \", noff_x =\", noff_x)\r\n",
    "print(\"[x_n(-1), x_n(0), x_n(1)] = [\", x_n(-1), x_n(0), x_n(1), \"]\")"
   ],
   "outputs": [
    {
     "output_type": "stream",
     "name": "stdout",
     "text": [
      "x = [-5 -3 -1  0  2  7  9] , noff_x = 2\n",
      "[x_n(-1), x_n(0), x_n(1)] = [ -3 -1 0 ]\n"
     ]
    }
   ],
   "metadata": {
    "tags": []
   }
  },
  {
   "cell_type": "code",
   "execution_count": 6,
   "source": [
    "# Returns a n seqence based on the offset provided.\r\n",
    "seq_n = lambda seq, noff: np.arange(seq.size) - noff\r\n",
    "\r\n",
    "print(\"x   =\", x)\r\n",
    "print(\"n_x =\", seq_n(x, noff_x))"
   ],
   "outputs": [
    {
     "output_type": "stream",
     "name": "stdout",
     "text": [
      "x   = [-5 -3 -1  0  2  7  9]\n",
      "n_x = [-2 -1  0  1  2  3  4]\n"
     ]
    }
   ],
   "metadata": {
    "tags": []
   }
  },
  {
   "cell_type": "code",
   "execution_count": 7,
   "source": [
    "# seq_n() is especially useful when plotting a sequence.\r\n",
    "fig, ax = plt.subplots()\r\n",
    "ax.stem(seq_n(x, noff_x), x)\r\n",
    "ax.set_xlabel('n')\r\n",
    "ax.set_ylabel('x(n)')"
   ],
   "outputs": [
    {
     "output_type": "execute_result",
     "data": {
      "text/plain": [
       "Text(0, 0.5, 'x(n)')"
      ]
     },
     "metadata": {},
     "execution_count": 7
    },
    {
     "output_type": "display_data",
     "data": {
      "image/png": "[encoded data removed]",
      "text/plain": [
       "<Figure size 432x288 with 1 Axes>"
      ]
     },
     "metadata": {
      "needs_background": "light"
     }
    }
   ],
   "metadata": {}
  },
  {
   "cell_type": "markdown",
   "source": [
    "对于有规律的序列，如：\n",
    "$$ x(n) = a^n $$\n",
    "我们通常采用编程的方式来产生。需要注意，一般情况下计算机只分析处理有限长度的序列。因此，我们往往会在程序中限定 $n$ 的取值范围，并近似认为序列是有限长序列。"
   ],
   "metadata": {}
  },
  {
   "cell_type": "code",
   "execution_count": 8,
   "source": [
    "# Parameters\r\n",
    "(n_min, n_max) = (-2, 3)    # The range of n\r\n",
    "a = 0.5\r\n",
    "\r\n",
    "# Generate the sequence\r\n",
    "x = np.array([a**n for n in range(n_min, n_max+1)])  # As the stop of range is omitted\r\n",
    "noff_x = 0 - n_min          # As 0 is the start of the array, 0 minus n_min produce the offset between two origin\r\n",
    "\r\n",
    "print(\"x =\", x, \", noff_x =\", noff_x)\r\n",
    "\r\n",
    "# Plot the sequence\r\n",
    "fig, ax = plt.subplots()\r\n",
    "ax.stem(seq_n(x, noff_x), x)\r\n",
    "ax.set_xlabel('n')\r\n",
    "ax.set_ylabel('x(n)')\r\n",
    "ax.set_title('x(n) = a^n')"
   ],
   "outputs": [
    {
     "output_type": "stream",
     "name": "stdout",
     "text": [
      "x = [4.    2.    1.    0.5   0.25  0.125] , noff_x = 2\n"
     ]
    },
    {
     "output_type": "execute_result",
     "data": {
      "text/plain": [
       "Text(0.5, 1.0, 'x(n) = a^n')"
      ]
     },
     "metadata": {},
     "execution_count": 8
    },
    {
     "output_type": "display_data",
     "data": {
      "image/png": "[encoded data removed]",
      "text/plain": [
       "<Figure size 432x288 with 1 Axes>"
      ]
     },
     "metadata": {
      "needs_background": "light"
     }
    }
   ],
   "metadata": {
    "tags": []
   }
  },
  {
   "cell_type": "markdown",
   "source": [
    "试生成以下序列：\n",
    "$$\n",
    "\\delta(n) = \\begin{cases}\n",
    "    1, n=0  \\\\\n",
    "    0, n \\neq 0  \n",
    "\\end{cases}\n",
    "$$"
   ],
   "metadata": {}
  },
  {
   "cell_type": "code",
   "execution_count": 9,
   "source": [
    "# Impulse Function\r\n",
    "def impulse(n): return 1 if (n == 0) else 0\r\n",
    "\r\n",
    "# Create seq range\r\n",
    "(nMin, nMax) = (-3, 3)\r\n",
    "\r\n",
    "# Generate the sequence\r\n",
    "seqImpulse = np.array([impulse(n) for n in range(nMin, nMax+1)])\r\n",
    "# Calculate the offset between two origin\r\n",
    "offsetOrigin = 0 - nMin\r\n",
    "\r\n",
    "# Plot sequence\r\n",
    "figure, axe = plt.subplots()\r\n",
    "# Create a stem plot\r\n",
    "axe.stem(seq_n(seqImpulse, offsetOrigin), seqImpulse)\r\n",
    "# Set label of the X axis\r\n",
    "axe.set_xlabel('n')\r\n",
    "# Set label of the Y axis\r\n",
    "axe.set_ylabel('x(n)')\r\n",
    "# Set title of the plot\r\n",
    "axe.set_title('x(n) = Impulse Function')"
   ],
   "outputs": [
    {
     "output_type": "execute_result",
     "data": {
      "text/plain": [
       "Text(0.5, 1.0, 'x(n) = Impulse Function')"
      ]
     },
     "metadata": {},
     "execution_count": 9
    },
    {
     "output_type": "display_data",
     "data": {
      "image/png": "[encoded data removed]",
      "text/plain": [
       "<Figure size 432x288 with 1 Axes>"
      ]
     },
     "metadata": {
      "needs_background": "light"
     }
    }
   ],
   "metadata": {
    "tags": []
   }
  },
  {
   "cell_type": "markdown",
   "source": [
    "试生成以下序列：\n",
    "$$\n",
    "u(n) = \\begin{cases}\n",
    "    1, n \\geqslant 0  \\\\\n",
    "    0, n < 0  \n",
    "\\end{cases}\n",
    "$$"
   ],
   "metadata": {}
  },
  {
   "cell_type": "code",
   "execution_count": 10,
   "source": [
    "# Step Function\r\n",
    "def step(n): return 1 if (n >= 0) else 0\r\n",
    "\r\n",
    "# Create seq range\r\n",
    "(nMin, nMax) = (-3, 3)\r\n",
    "\r\n",
    "# Generate the sequence\r\n",
    "seqStep = np.array([step(n) for n in range(nMin, nMax+1)])\r\n",
    "# Calculate the offset between two origin\r\n",
    "offsetOrigin = 0 - nMin\r\n",
    "\r\n",
    "# Plot sequence\r\n",
    "figure, axe = plt.subplots()\r\n",
    "# Create a stem plot\r\n",
    "axe.stem(seq_n(seqStep, offsetOrigin), seqStep)\r\n",
    "# Set label of the X axis\r\n",
    "axe.set_xlabel('n')\r\n",
    "# Set label of the Y axis\r\n",
    "axe.set_ylabel('x(n)')\r\n",
    "# Set title of the plot\r\n",
    "axe.set_title('x(n) = Step Function')"
   ],
   "outputs": [
    {
     "output_type": "execute_result",
     "data": {
      "text/plain": [
       "Text(0.5, 1.0, 'x(n) = Step Function')"
      ]
     },
     "metadata": {},
     "execution_count": 10
    },
    {
     "output_type": "display_data",
     "data": {
      "image/png": "[encoded data removed]",
      "text/plain": [
       "<Figure size 432x288 with 1 Axes>"
      ]
     },
     "metadata": {
      "needs_background": "light"
     }
    }
   ],
   "metadata": {
    "tags": []
   }
  },
  {
   "cell_type": "markdown",
   "source": [
    "试生成以下序列：\n",
    "$$\n",
    "R_N(n) = \\begin{cases}\n",
    "    1, 0 \\leqslant n \\leqslant N-1  \\\\\n",
    "    0, \\text{其他}n\n",
    "\\end{cases}\n",
    "$$\n",
    "$N$为大于0的整数"
   ],
   "metadata": {}
  },
  {
   "cell_type": "code",
   "execution_count": 11,
   "source": [
    "# R_N Function\r\n",
    "def R(n,N): return 1 if (n >= 0 and n <= N - 1) else 0\r\n",
    "\r\n",
    "# Create seq range\r\n",
    "(nMin, nMax) = (-3, 3)\r\n",
    "\r\n",
    "# Generate the sequence\r\n",
    "seqR_N = np.array([R(n, 2) for n in range(nMin, nMax+1)])\r\n",
    "# Calculate the offset between two origin\r\n",
    "offsetOrigin = 0 - nMin\r\n",
    "\r\n",
    "# Plot sequence\r\n",
    "figure, axe = plt.subplots()\r\n",
    "# Create a stem plot\r\n",
    "axe.stem(seq_n(seqR_N, offsetOrigin), seqR_N)\r\n",
    "# Set label of the X axis\r\n",
    "axe.set_xlabel('n')\r\n",
    "# Set label of the Y axis\r\n",
    "axe.set_ylabel('x(n)')\r\n",
    "# Set title of the plot\r\n",
    "axe.set_title('x(n) = R_N Function')"
   ],
   "outputs": [
    {
     "output_type": "execute_result",
     "data": {
      "text/plain": [
       "Text(0.5, 1.0, 'x(n) = R_N Function')"
      ]
     },
     "metadata": {},
     "execution_count": 11
    },
    {
     "output_type": "display_data",
     "data": {
      "image/png": "[encoded data removed]",
      "text/plain": [
       "<Figure size 432x288 with 1 Axes>"
      ]
     },
     "metadata": {
      "needs_background": "light"
     }
    }
   ],
   "metadata": {
    "tags": []
   }
  }
 ],
 "metadata": {
  "kernelspec": {
   "name": "python3",
   "display_name": "Python 3.9.7 64-bit (windows store)"
  },
  "language_info": {
   "codemirror_mode": {
    "name": "ipython",
    "version": 3
   },
   "file_extension": ".py",
   "mimetype": "text/x-python",
   "name": "python",
   "nbconvert_exporter": "python",
   "pygments_lexer": "ipython3",
   "version": "3.9.7"
  },
  "interpreter": {
   "hash": "cf09fe04e0b152d805dbf46488a22ab1fe67adade06232065d1a31a038bbeb91"
  }
 },
 "nbformat": 4,
 "nbformat_minor": 4
}