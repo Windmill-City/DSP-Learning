{
 "cells": [
  {
   "cell_type": "markdown",
   "metadata": {},
   "source": [
    "ver: 20201016.1257"
   ]
  },
  {
   "cell_type": "code",
   "execution_count": 1,
   "metadata": {},
   "outputs": [],
   "source": [
    "# Initialization for this notebook.\n",
    "\n",
    "import numpy as np\n",
    "import matplotlib.pyplot as plt\n",
    "\n",
    "# Un-comment the following line to use interactive matplotlib widget.\n",
    "#%matplotlib widget\n",
    "\n",
    "# Returns a n seqence based on the offset provided.\n",
    "seq_n = lambda seq, noff: np.arange(seq.size) - noff\n",
    "\n",
    "# Pretty print a sequence.\n",
    "seq_print = lambda seq, noff, name: print('noff_%s =%2d, %s =' % (name, noff, name), seq.astype(float))\n",
    "\n",
    "# Common sequence generators.\n",
    "seq_delta = lambda n_min, n_max: (np.array([ 1 if n==0 else 0 for n in range(n_min, n_max+1)]), 0 - n_min)\n",
    "seq_u = lambda n_min, n_max: (np.array([ 0 if n<0 else 1 for n in range(n_min, n_max+1)]), 0-n_min)\n",
    "seq_R_N = lambda N, n_min, n_max: (np.array([ 0 if (n<0 or n>=N) else 1 for n in range(n_min, n_max+1)]), 0-n_min)\n",
    "seq_real_exp = lambda a, n_min, n_max: (np.array([ 0 if n<0 else a**n for n in range(n_min, n_max+1)]), 0-n_min)\n",
    "seq_complex_exp = lambda sigma, omega_0, n_min, n_max: (np.array([ np.exp((sigma + 1j*omega_0)*n) for n in range(n_min, n_max+1)]), 0-n_min)\n",
    "seq_sin = lambda A, omega_0, phi, n_min, n_max: (np.array([ A*np.sin(omega_0*n + phi) for n in range(n_min, n_max+1)]), 0-n_min)"
   ]
  },
  {
   "cell_type": "markdown",
   "metadata": {},
   "source": [
    "编程实现以下常系数线性差分方程所代表的系统：\n",
    "$$ y(n) - y(n-1) = x(n) $$\n",
    "\n",
    "将原常系数线性差分方程整理为：\n",
    "$$ y(n) = x(n) + y(n-1) $$"
   ]
  },
  {
   "cell_type": "code",
   "execution_count": 2,
   "metadata": {},
   "outputs": [
    {
     "data": {
      "image/svg+xml": [
       "<svg xmlns=\"http://www.w3.org/2000/svg\" xmlns:xlink=\"http://www.w3.org/1999/xlink\" width=\"231pt\" height=\"50pt\" viewBox=\"0.00 0.00 231.20 49.80\">\n",
       "<g id=\"graph0\" class=\"graph\" transform=\"scale(1 1) rotate(0) translate(4 45.8)\">\n",
       "<title>G</title>\n",
       "<polygon fill=\"#ffffff\" stroke=\"transparent\" points=\"-4,4 -4,-45.8 227.2,-45.8 227.2,4 -4,4\"/>\n",
       "<!-- x -->\n",
       "<g id=\"node1\" class=\"node\">\n",
       "<title>x</title>\n",
       "<text text-anchor=\"middle\" x=\"27\" y=\"-19.6\" font-family=\"Times,serif\" font-size=\"14.00\" fill=\"#000000\">x(n)</text>\n",
       "</g>\n",
       "<!-- sum -->\n",
       "<g id=\"node2\" class=\"node\">\n",
       "<title>sum</title>\n",
       "<ellipse fill=\"#000000\" stroke=\"#000000\" cx=\"91.8\" cy=\"-23.8\" rx=\"1.8\" ry=\"1.8\"/>\n",
       "</g>\n",
       "<!-- x&#45;&gt;sum -->\n",
       "<g id=\"edge1\" class=\"edge\">\n",
       "<title>x-&gt;sum</title>\n",
       "<path fill=\"none\" stroke=\"#000000\" d=\"M54.1056,-23.8C54.1056,-23.8 79.843,-23.8 79.843,-23.8\"/>\n",
       "<polygon fill=\"#000000\" stroke=\"#000000\" points=\"79.843,-27.3001 89.843,-23.8 79.843,-20.3001 79.843,-27.3001\"/>\n",
       "</g>\n",
       "<!-- split -->\n",
       "<g id=\"node3\" class=\"node\">\n",
       "<title>split</title>\n",
       "<ellipse fill=\"#000000\" stroke=\"#000000\" cx=\"131.4\" cy=\"-23.8\" rx=\"1.8\" ry=\"1.8\"/>\n",
       "</g>\n",
       "<!-- sum&#45;&gt;split -->\n",
       "<g id=\"edge2\" class=\"edge\">\n",
       "<title>sum-&gt;split</title>\n",
       "<path fill=\"none\" stroke=\"#000000\" d=\"M93.9291,-23.8C93.9291,-23.8 119.4497,-23.8 119.4497,-23.8\"/>\n",
       "<polygon fill=\"#000000\" stroke=\"#000000\" points=\"119.4498,-27.3001 129.4497,-23.8 119.4497,-20.3001 119.4498,-27.3001\"/>\n",
       "</g>\n",
       "<!-- y_z1 -->\n",
       "<g id=\"node4\" class=\"node\">\n",
       "<title>y_z1</title>\n",
       "<ellipse fill=\"#000000\" stroke=\"#000000\" cx=\"131.4\" cy=\"-1.8\" rx=\"1.8\" ry=\"1.8\"/>\n",
       "</g>\n",
       "<!-- split&#45;&gt;y_z1 -->\n",
       "<g id=\"edge4\" class=\"edge\">\n",
       "<title>split-&gt;y_z1</title>\n",
       "<path fill=\"none\" stroke=\"#000000\" d=\"M132.2,-22.0737C132.2,-22.0737 132.2,-13.7043 132.2,-13.7043\"/>\n",
       "<polygon fill=\"#000000\" stroke=\"#000000\" points=\"135.7001,-13.7043 132.2,-3.7043 128.7001,-13.7043 135.7001,-13.7043\"/>\n",
       "<text text-anchor=\"middle\" x=\"147.7449\" y=\"-9.489\" font-family=\"Times,serif\" font-size=\"14.00\" fill=\"#000000\">z⁻¹</text>\n",
       "</g>\n",
       "<!-- y -->\n",
       "<g id=\"node5\" class=\"node\">\n",
       "<title>y</title>\n",
       "<text text-anchor=\"middle\" x=\"196.2\" y=\"-19.6\" font-family=\"Times,serif\" font-size=\"14.00\" fill=\"#000000\">y(n)</text>\n",
       "</g>\n",
       "<!-- split&#45;&gt;y -->\n",
       "<g id=\"edge3\" class=\"edge\">\n",
       "<title>split-&gt;y</title>\n",
       "<path fill=\"none\" stroke=\"#000000\" d=\"M133.2695,-23.8C133.2695,-23.8 159.0563,-23.8 159.0563,-23.8\"/>\n",
       "<polygon fill=\"#000000\" stroke=\"#000000\" points=\"159.0564,-27.3001 169.0563,-23.8 159.0563,-20.3001 159.0564,-27.3001\"/>\n",
       "</g>\n",
       "<!-- y_z1&#45;&gt;sum -->\n",
       "<g id=\"edge5\" class=\"edge\">\n",
       "<title>y_z1-&gt;sum</title>\n",
       "<path fill=\"none\" stroke=\"#000000\" d=\"M129.2924,-1.8C121.1502,-1.8 92.2,-1.8 92.2,-1.8 92.2,-1.8 92.2,-11.7697 92.2,-11.7697\"/>\n",
       "<polygon fill=\"#000000\" stroke=\"#000000\" points=\"88.7001,-11.7697 92.2,-21.7697 95.7001,-11.7698 88.7001,-11.7697\"/>\n",
       "</g>\n",
       "</g>\n",
       "</svg>"
      ],
      "text/plain": [
       "<IPython.core.display.SVG object>"
      ]
     },
     "execution_count": 2,
     "metadata": {},
     "output_type": "execute_result"
    }
   ],
   "source": [
    "# Show the system block diagram.\n",
    "from IPython.core.display import SVG\n",
    "SVG(filename='1.3-fig-1.17.dot.svg')"
   ]
  },
  {
   "cell_type": "markdown",
   "metadata": {},
   "source": [
    "## 经典的实现方法"
   ]
  },
  {
   "cell_type": "code",
   "execution_count": 3,
   "metadata": {},
   "outputs": [],
   "source": [
    "def T(x):\n",
    "    # [BEST PRACTICE] Allocate enough space before using an array.\n",
    "    y = np.zeros(x.size)\n",
    "    \n",
    "    # Compute output values one-by-one.\n",
    "    # [NOTICE] During most LSI DSP, n's true value is not important (the relative value is, however). It is the user's responsibility to take care of it before and after DSP.\n",
    "    for n in range(x.size):\n",
    "        if n==0:\n",
    "            # There is no y[n-1]=y[0-1]=y[-1] provided, so here we assume the system is causal, so y[-1]=0.\n",
    "            # [NOTICE] The developer has to consider carefully if the assumption is reasonable. If in doubt, let the user decide by adding more arguments to this function, e.g. T(x, y_init), where y_init means the initial condition of y (i.e. y[-1] here).\n",
    "            y[n] = x[n]\n",
    "        else:\n",
    "            y[n] = x[n] + y[n-1]\n",
    "    return y"
   ]
  },
  {
   "cell_type": "markdown",
   "metadata": {},
   "source": [
    "单元测试1：输入 $ \\delta(n) $，预期输出为 $ u(n) $"
   ]
  },
  {
   "cell_type": "code",
   "execution_count": 4,
   "metadata": {},
   "outputs": [
    {
     "name": "stdout",
     "output_type": "stream",
     "text": [
      "noff_x = 5, x = [0. 0. 0. 0. 0. 1. 0. 0. 0. 0. 0.]\n",
      "noff_y = 5, y = [0. 0. 0. 0. 0. 1. 1. 1. 1. 1. 1.]\n"
     ]
    }
   ],
   "source": [
    "# Define input sequence.\n",
    "(n_min, n_max) = (-5, 5)\n",
    "(x, noff_x) = seq_delta(n_min, n_max)\n",
    "seq_print(x, noff_x, 'x')\n",
    "\n",
    "# Compute output sequence.\n",
    "(y, noff_y) = (T(x), noff_x)\n",
    "seq_print(y, noff_y, 'y')"
   ]
  },
  {
   "cell_type": "markdown",
   "metadata": {},
   "source": [
    "单元测试2：输入 $ u(n) $，预期输出为 $ (n+1)u(n) $"
   ]
  },
  {
   "cell_type": "code",
   "execution_count": 5,
   "metadata": {},
   "outputs": [
    {
     "name": "stdout",
     "output_type": "stream",
     "text": [
      "noff_x = 5, x = [0. 0. 0. 0. 0. 1. 1. 1. 1. 1. 1.]\n",
      "noff_y = 5, y = [0. 0. 0. 0. 0. 1. 2. 3. 4. 5. 6.]\n"
     ]
    }
   ],
   "source": [
    "# Define input sequence.\n",
    "(n_min, n_max) = (-5, 5)\n",
    "(x, noff_x) = seq_u(n_min, n_max)\n",
    "seq_print(x, noff_x, 'x')\n",
    "\n",
    "# Compute output sequence.\n",
    "(y, noff_y) = (T(x), noff_x)\n",
    "seq_print(y, noff_y, 'y')"
   ]
  },
  {
   "cell_type": "markdown",
   "metadata": {},
   "source": [
    "单元测试3：输入 $ R_3(n) $，预期输出为 $ [\\underline{1}, 2, 3] + 3*u(n-3) $"
   ]
  },
  {
   "cell_type": "code",
   "execution_count": 6,
   "metadata": {},
   "outputs": [
    {
     "name": "stdout",
     "output_type": "stream",
     "text": [
      "noff_x = 5, x = [0. 0. 0. 0. 0. 1. 1. 1. 0. 0. 0.]\n",
      "noff_y = 5, y = [0. 0. 0. 0. 0. 1. 2. 3. 3. 3. 3.]\n"
     ]
    }
   ],
   "source": [
    "# Define input sequence.\n",
    "(n_min, n_max) = (-5, 5)\n",
    "(x, noff_x) = seq_R_N(3, n_min, n_max)\n",
    "seq_print(x, noff_x, 'x')\n",
    "\n",
    "# Compute output sequence.\n",
    "(y, noff_y) = (T(x), noff_x)\n",
    "seq_print(y, noff_y, 'y')"
   ]
  },
  {
   "cell_type": "markdown",
   "metadata": {},
   "source": [
    "## 基于数据流的实现方法"
   ]
  },
  {
   "cell_type": "code",
   "execution_count": 7,
   "metadata": {},
   "outputs": [],
   "source": [
    "class T_stream:\n",
    "    \"\"\"A class to process input stream, i.e. one value at a time.\"\"\"\n",
    "\n",
    "    # A storage to keep y[n-1], assuming causal system.\n",
    "    y_z1 = 0\n",
    "\n",
    "    def process(self, x):\n",
    "        \"\"\"Process one single input value x[n] and return y[n].\"\"\"\n",
    "\n",
    "        # y[n] = x[n] + y[n-1]\n",
    "        y = x + self.y_z1\n",
    "\n",
    "        # Store the y[n], so that when process() is called next time, it will be y[n-1]\n",
    "        self.y_z1 = y\n",
    "\n",
    "        return y"
   ]
  },
  {
   "cell_type": "markdown",
   "metadata": {},
   "source": [
    "单元测试：输入 $ R_3(n) $，预期输出为 $ [\\underline{1}, 2, 3] + 3*u(n) $"
   ]
  },
  {
   "cell_type": "code",
   "execution_count": 8,
   "metadata": {},
   "outputs": [
    {
     "name": "stdout",
     "output_type": "stream",
     "text": [
      "noff_x = 5, x = [0. 0. 0. 0. 0. 1. 1. 1. 0. 0. 0.]\n",
      "noff_y = 5, y = [0. 0. 0. 0. 0. 1. 2. 3. 3. 3. 3.]\n"
     ]
    }
   ],
   "source": [
    "# Define input sequence.\n",
    "(n_min, n_max) = (-5, 5)\n",
    "(x, noff_x) = seq_R_N(3, n_min, n_max)\n",
    "seq_print(x, noff_x, 'x')\n",
    "\n",
    "# Create a T_stream object.\n",
    "t_stream = T_stream()\n",
    "\n",
    "# Process the input sequence one value at a time.\n",
    "(y, noff_y) = (np.array([t_stream.process(x_i) for x_i in x]), noff_x)\n",
    "seq_print(y, noff_y, 'y')"
   ]
  },
  {
   "cell_type": "markdown",
   "metadata": {},
   "source": [
    "### 核心思想\n",
    "\n",
    "- 将计算缩小到最小单元，即只完成当前时刻$n$的计算：只输入一个值$x(n)$，只计算一个输出值$y(n)$。\n",
    "- 完成当前时刻$n$的计算后，将下一个时刻$n+1$的计算中所需要的数值保存下来\n",
    "  - 例如这个系统中，需要保存当前的$y(n)$，作为下一个时刻计算所需的“$y(n-1)$”。\n",
    "\n",
    "### 优点\n",
    "\n",
    "- 计算模块本身所需存储空间小：不需要存储整个输入和输出序列。\n",
    "- 适合任意长的信号处理：分段处理非常容易实现。"
   ]
  },
  {
   "cell_type": "markdown",
   "metadata": {},
   "source": [
    "假设输入序列 $x(n)$ 是分成多段逐段接收到的，如果系统采用“经典”的实现方法，而又未作任何辅助处理，结果很有可能是错的。"
   ]
  },
  {
   "cell_type": "code",
   "execution_count": 9,
   "metadata": {},
   "outputs": [
    {
     "name": "stdout",
     "output_type": "stream",
     "text": [
      "Receiving x (part 1)...\n",
      "noff_x = 0, x = [0. 0. 0. 0. 1. 1. 1. 0.]\n",
      "noff_y = 0, y = [0. 0. 0. 0. 1. 2. 3. 3.]\n",
      "x_total_len = 8 \n",
      "\n",
      "Receiving x (part 2)...\n",
      "noff_x =-8, x = [0. 0. 0. 0. 0. 0. 0. 0.]\n",
      "noff_y =-8, y = [0. 0. 0. 0. 0. 0. 0. 0.]\n",
      "x_total_len = 16 \n",
      "\n"
     ]
    }
   ],
   "source": [
    "x_total_len = 0\n",
    "\n",
    "print('Receiving x (part 1)...')\n",
    "(x, noff_x) = (np.array([0, 0, 0, 0, 1, 1, 1, 0]), 0)\n",
    "seq_print(x, noff_x, 'x')\n",
    "(y, noff_y) = (T(x), noff_x)\n",
    "seq_print(y, noff_y, 'y')\n",
    "x_total_len = x_total_len + x.size\n",
    "print('x_total_len =', x_total_len, '\\n')\n",
    "\n",
    "print('Receiving x (part 2)...')\n",
    "(x, noff_x) = (np.array([0, 0, 0, 0, 0, 0, 0, 0]), -x_total_len)\n",
    "seq_print(x, noff_x, 'x')\n",
    "(y, noff_y) = (T(x), noff_x)\n",
    "seq_print(y, noff_y, 'y')\n",
    "x_total_len = x_total_len + x.size\n",
    "print('x_total_len =', x_total_len, '\\n')\n",
    "\n",
    "# Can you spot the problem in the second part?"
   ]
  },
  {
   "cell_type": "markdown",
   "metadata": {},
   "source": [
    "要纠正上面的错误，一种方法是把输入序列的所有段都缓存并拼接起来，再一次过输入系统得出完整的输出。可是这样不但耗费存储空间，也大大增加处理的时延。而更简单有效的方法，是采用“基于数据流”的实现。"
   ]
  },
  {
   "cell_type": "code",
   "execution_count": 10,
   "metadata": {},
   "outputs": [
    {
     "name": "stdout",
     "output_type": "stream",
     "text": [
      "Receiving x (part 1)...\n",
      "noff_x = 0, x = [0. 0. 0. 0. 1. 1. 1. 0.]\n",
      "noff_y = 0, y = [0. 0. 0. 0. 1. 2. 3. 3.]\n",
      "x_total_len = 8 \n",
      "\n",
      "Receiving x (part 2)...\n",
      "noff_x =-8, x = [0. 0. 0. 0. 0. 0. 0. 0.]\n",
      "noff_y =-8, y = [3. 3. 3. 3. 3. 3. 3. 3.]\n",
      "x_total_len = 16 \n",
      "\n"
     ]
    }
   ],
   "source": [
    "x_total_len = 0\n",
    "t_stream = T_stream()\n",
    "\n",
    "print('Receiving x (part 1)...')\n",
    "(x, noff_x) = (np.array([0, 0, 0, 0, 1, 1, 1, 0]), 0)\n",
    "seq_print(x, noff_x, 'x')\n",
    "(y, noff_y) = (np.array([t_stream.process(x_i) for x_i in x]), noff_x)\n",
    "seq_print(y, noff_y, 'y')\n",
    "x_total_len = x_total_len + x.size\n",
    "print('x_total_len =', x_total_len, '\\n')\n",
    "\n",
    "print('Receiving x (part 2)...')\n",
    "(x, noff_x) = (np.array([0, 0, 0, 0, 0, 0, 0, 0]), -x_total_len)\n",
    "seq_print(x, noff_x, 'x')\n",
    "(y, noff_y) = (np.array([t_stream.process(x_i) for x_i in x]), noff_x)\n",
    "seq_print(y, noff_y, 'y')\n",
    "x_total_len = x_total_len + x.size\n",
    "print('x_total_len =', x_total_len, '\\n')\n"
   ]
  }
 ],
 "metadata": {
  "kernelspec": {
   "display_name": "Python 3",
   "language": "python",
   "name": "python3"
  },
  "language_info": {
   "codemirror_mode": {
    "name": "ipython",
    "version": 3
   },
   "file_extension": ".py",
   "mimetype": "text/x-python",
   "name": "python",
   "nbconvert_exporter": "python",
   "pygments_lexer": "ipython3",
   "version": "3.8.5"
  }
 },
 "nbformat": 4,
 "nbformat_minor": 4
}
