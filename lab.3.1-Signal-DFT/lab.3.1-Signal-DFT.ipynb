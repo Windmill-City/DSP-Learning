{
 "cells": [
  {
   "cell_type": "markdown",
   "metadata": {},
   "source": [
    "# 实验3.1 利用DFT对模拟信号进行频谱分析\n",
    "\n",
    "## 基本信息\n",
    "\n",
    "- 实验类型：分析型\n",
    "- 实验地点：分散\n",
    "- 实验时间：第9-10周\n",
    "\n",
    "## 目标\n",
    "\n",
    "对一个未知参数的信号进行频谱分析，掌握使用DFT进行频谱分析的方法。\n",
    "\n",
    "## 内容\n",
    "\n",
    "- 调用教师提供的 `sourceAD` 程序，对未知参数信号在一定频率下进行采样，获得采样序列。\n",
    "  - 程序已经包含原始信号发生器和AD转换功能。\n",
    "  - 程序只能够输出有限个采样值，具体数量和输出格式，请自行查看程序的帮助。\n",
    "- 利用Numpy中的FFT相关函数，计算采样序列的DFT频谱。\n",
    "- 分析DFT频谱，推算原始信号中所有重要频率成分及其相关参数。\n",
    "  - 相关参数包括：物理频率 $f$、幅度 $A$、相位 $\\phi$。\n",
    "  - 提示1：可以反复使用不同采样频率，获得不同采样序列和频谱进行分析，从而得出较高精度的参数。\n",
    "  - 提示2：原始信号中，可能存在不只一个重要（幅度明显比较大的）的频率成分，且相互之间一般有一定的频率间隔。\n",
    "- 实验报告直接在本`ipynb`文档中完成。\n",
    "  - 调用教师提供的 `sourceAD` 程序部分，只需要在本文档中以文字方式描述过程即可，不需要屏幕截图等。\n",
    "  - 提交前，请整理好本文档内容，删除所有多余的代码、无用的中间结果等，确保只保留必要的报告内容。\n"
   ]
  }
 ],
 "metadata": {
  "kernelspec": {
   "display_name": "Python 3 (ipykernel)",
   "language": "python",
   "name": "python3"
  },
  "language_info": {
   "codemirror_mode": {
    "name": "ipython",
    "version": 3
   },
   "file_extension": ".py",
   "mimetype": "text/x-python",
   "name": "python",
   "nbconvert_exporter": "python",
   "pygments_lexer": "ipython3",
   "version": "3.9.5"
  }
 },
 "nbformat": 4,
 "nbformat_minor": 4
}
