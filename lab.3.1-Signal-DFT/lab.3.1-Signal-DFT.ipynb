{
 "cells": [
  {
   "cell_type": "markdown",
   "metadata": {},
   "source": [
    "# 实验3.1 利用DFT对模拟信号进行频谱分析\n",
    "\n",
    "## 基本信息\n",
    "\n",
    "- 实验类型：分析型\n",
    "- 实验地点：分散\n",
    "- 实验时间：第9-10周\n",
    "\n",
    "## 目标\n",
    "\n",
    "对一个未知参数的信号进行频谱分析，掌握使用DFT进行频谱分析的方法。\n",
    "\n",
    "## 内容\n",
    "\n",
    "- 调用教师提供的 `sourceAD` 程序，对未知参数信号在一定频率下进行采样，获得采样序列。\n",
    "  - 程序已经包含原始信号发生器和AD转换功能。\n",
    "  - 程序只能够输出有限个采样值，具体数量和输出格式，请自行查看程序的帮助。\n",
    "- 利用Numpy中的FFT相关函数，计算采样序列的DFT频谱。\n",
    "- 分析DFT频谱，推算原始信号中所有重要频率成分及其相关参数。\n",
    "  - 相关参数包括：物理频率 $f$、幅度 $A$、相位 $\\phi$。\n",
    "  - 提示1：可以反复使用不同采样频率，获得不同采样序列和频谱进行分析，从而得出较高精度的参数。\n",
    "  - 提示2：原始信号中，可能存在不只一个重要（幅度明显比较大的）的频率成分，且相互之间一般有一定的频率间隔。\n",
    "- 实验报告直接在本`ipynb`文档中完成。\n",
    "  - 调用教师提供的 `sourceAD` 程序部分，只需要在本文档中以文字方式描述过程即可，不需要屏幕截图等。\n",
    "  - 提交前，请整理好本文档内容，删除所有多余的代码、无用的中间结果等，确保只保留必要的报告内容。\n"
   ]
  },
  {
   "cell_type": "code",
   "execution_count": 1,
   "metadata": {},
   "outputs": [],
   "source": [
    "import numpy as np\n",
    "import matplotlib.pyplot as plt\n",
    "\n",
    "# Un-comment the following line to use interactive matplotlib widget.\n",
    "%matplotlib widget\n",
    "\n",
    "# Returns a n seqence based on the offset provided.\n",
    "seq_n = lambda seq, noff: np.arange(seq.size) - noff\n",
    "\n",
    "def plotVertical(title, plotData):\n",
    "    \"\"\"\n",
    "        Parameters:\n",
    "        title: plot title string\n",
    "        plotData: tuple array, contains data to plot\n",
    "        [(seq, noff, label), ...]\n",
    "    \"\"\"\n",
    "    # Get the row number\n",
    "    row = len(plotData)\n",
    "    # Create a plot, which plots data sequence vertically, shares the same X and Y axis\n",
    "    _, axe = plt.subplots(row, 1, sharex=False, sharey=False)\n",
    "    axe[0].set_title(title)\n",
    "    for i in range(row):\n",
    "        # Get the arguments\n",
    "        seq, offset, label = plotData[i]\n",
    "        # Create a stem plot for seq\n",
    "        axe[i].stem(seq_n(seq, offset), seq, markerfmt='None')\n",
    "        # Set Y label\n",
    "        axe[i].set_ylabel(label)\n",
    "    # Set X label at the bottom\n",
    "    axe[-1].set_xlabel('n')\n"
   ]
  },
  {
   "cell_type": "code",
   "execution_count": 2,
   "metadata": {},
   "outputs": [
    {
     "data": {
      "application/vnd.jupyter.widget-view+json": {
       "model_id": "46257d4ea87649b3bb04450998e5190e",
       "version_major": 2,
       "version_minor": 0
      },
      "text/plain": [
       "Canvas(toolbar=Toolbar(toolitems=[('Home', 'Reset original view', 'home', 'home'), ('Back', 'Back to previous …"
      ]
     },
     "metadata": {},
     "output_type": "display_data"
    },
    {
     "data": {
      "application/vnd.jupyter.widget-view+json": {
       "model_id": "78719b64435b4d00873f961d8f49212b",
       "version_major": 2,
       "version_minor": 0
      },
      "text/plain": [
       "Canvas(toolbar=Toolbar(toolitems=[('Home', 'Reset original view', 'home', 'home'), ('Back', 'Back to previous …"
      ]
     },
     "metadata": {},
     "output_type": "display_data"
    },
    {
     "data": {
      "application/vnd.jupyter.widget-view+json": {
       "model_id": "fb5a41e7e5964530bfa34b6894c2d7c0",
       "version_major": 2,
       "version_minor": 0
      },
      "text/plain": [
       "Canvas(toolbar=Toolbar(toolitems=[('Home', 'Reset original view', 'home', 'home'), ('Back', 'Back to previous …"
      ]
     },
     "metadata": {},
     "output_type": "display_data"
    },
    {
     "data": {
      "application/vnd.jupyter.widget-view+json": {
       "model_id": "4e144850f19e4232b75b03e9c5abb5b8",
       "version_major": 2,
       "version_minor": 0
      },
      "text/plain": [
       "Canvas(toolbar=Toolbar(toolitems=[('Home', 'Reset original view', 'home', 'home'), ('Back', 'Back to previous …"
      ]
     },
     "metadata": {},
     "output_type": "display_data"
    },
    {
     "data": {
      "application/vnd.jupyter.widget-view+json": {
       "model_id": "45af95c466bc4e0c8fe04ebf724fec3a",
       "version_major": 2,
       "version_minor": 0
      },
      "text/plain": [
       "Canvas(toolbar=Toolbar(toolitems=[('Home', 'Reset original view', 'home', 'home'), ('Back', 'Back to previous …"
      ]
     },
     "metadata": {},
     "output_type": "display_data"
    },
    {
     "data": {
      "application/vnd.jupyter.widget-view+json": {
       "model_id": "7f2592c6a5574a66b7e4c137185ee725",
       "version_major": 2,
       "version_minor": 0
      },
      "text/plain": [
       "Canvas(toolbar=Toolbar(toolitems=[('Home', 'Reset original view', 'home', 'home'), ('Back', 'Back to previous …"
      ]
     },
     "metadata": {},
     "output_type": "display_data"
    },
    {
     "data": {
      "application/vnd.jupyter.widget-view+json": {
       "model_id": "72afc6dd91ff42ad9c958cde63895bc7",
       "version_major": 2,
       "version_minor": 0
      },
      "text/plain": [
       "Canvas(toolbar=Toolbar(toolitems=[('Home', 'Reset original view', 'home', 'home'), ('Back', 'Back to previous …"
      ]
     },
     "metadata": {},
     "output_type": "display_data"
    },
    {
     "data": {
      "application/vnd.jupyter.widget-view+json": {
       "model_id": "01b88710b5744531ba8a65a513f67589",
       "version_major": 2,
       "version_minor": 0
      },
      "text/plain": [
       "Canvas(toolbar=Toolbar(toolitems=[('Home', 'Reset original view', 'home', 'home'), ('Back', 'Back to previous …"
      ]
     },
     "metadata": {},
     "output_type": "display_data"
    },
    {
     "data": {
      "application/vnd.jupyter.widget-view+json": {
       "model_id": "e319eae8764644a59998e09d755a7c21",
       "version_major": 2,
       "version_minor": 0
      },
      "text/plain": [
       "Canvas(toolbar=Toolbar(toolitems=[('Home', 'Reset original view', 'home', 'home'), ('Back', 'Back to previous …"
      ]
     },
     "metadata": {},
     "output_type": "display_data"
    },
    {
     "data": {
      "application/vnd.jupyter.widget-view+json": {
       "model_id": "4adeaf1c8cda478f9f282e9b8ae374e8",
       "version_major": 2,
       "version_minor": 0
      },
      "text/plain": [
       "Canvas(toolbar=Toolbar(toolitems=[('Home', 'Reset original view', 'home', 'home'), ('Back', 'Back to previous …"
      ]
     },
     "metadata": {},
     "output_type": "display_data"
    },
    {
     "data": {
      "application/vnd.jupyter.widget-view+json": {
       "model_id": "fad59764b51446fa80e301a87a1d75a4",
       "version_major": 2,
       "version_minor": 0
      },
      "text/plain": [
       "Canvas(toolbar=Toolbar(toolitems=[('Home', 'Reset original view', 'home', 'home'), ('Back', 'Back to previous …"
      ]
     },
     "metadata": {},
     "output_type": "display_data"
    },
    {
     "data": {
      "application/vnd.jupyter.widget-view+json": {
       "model_id": "f93411b9fd264ecb9933d6fa6eb54d81",
       "version_major": 2,
       "version_minor": 0
      },
      "text/plain": [
       "Canvas(toolbar=Toolbar(toolitems=[('Home', 'Reset original view', 'home', 'home'), ('Back', 'Back to previous …"
      ]
     },
     "metadata": {},
     "output_type": "display_data"
    },
    {
     "data": {
      "application/vnd.jupyter.widget-view+json": {
       "model_id": "af2a2684a0ad4941854b7ceb4eb1e01b",
       "version_major": 2,
       "version_minor": 0
      },
      "text/plain": [
       "Canvas(toolbar=Toolbar(toolitems=[('Home', 'Reset original view', 'home', 'home'), ('Back', 'Back to previous …"
      ]
     },
     "metadata": {},
     "output_type": "display_data"
    },
    {
     "data": {
      "application/vnd.jupyter.widget-view+json": {
       "model_id": "aa45d7e1772a49a4929317879a07c33c",
       "version_major": 2,
       "version_minor": 0
      },
      "text/plain": [
       "Canvas(toolbar=Toolbar(toolitems=[('Home', 'Reset original view', 'home', 'home'), ('Back', 'Back to previous …"
      ]
     },
     "metadata": {},
     "output_type": "display_data"
    },
    {
     "data": {
      "application/vnd.jupyter.widget-view+json": {
       "model_id": "2457bd493e884f8f9e7c75a4180d6c4d",
       "version_major": 2,
       "version_minor": 0
      },
      "text/plain": [
       "Canvas(toolbar=Toolbar(toolitems=[('Home', 'Reset original view', 'home', 'home'), ('Back', 'Back to previous …"
      ]
     },
     "metadata": {},
     "output_type": "display_data"
    },
    {
     "data": {
      "application/vnd.jupyter.widget-view+json": {
       "model_id": "58ebe54543c94ffb827b958e2aca4c4e",
       "version_major": 2,
       "version_minor": 0
      },
      "text/plain": [
       "Canvas(toolbar=Toolbar(toolitems=[('Home', 'Reset original view', 'home', 'home'), ('Back', 'Back to previous …"
      ]
     },
     "metadata": {},
     "output_type": "display_data"
    }
   ],
   "source": [
    "\n",
    "def sample(freq):\n",
    "    \"\"\"\n",
    "    Sample data from source\n",
    "    :param freq Sample frequency:int\n",
    "    :retrun Sampled data:np.array\n",
    "    \"\"\"\n",
    "    import subprocess\n",
    "    subprocess.run(['sourceAD', str(freq), 'sampled.dat'])\n",
    "    return np.fromfile('sampled.dat', dtype='int16')\n",
    "\n",
    "\n",
    "def plotSample(freq, sample_data, fft_data):\n",
    "    \"\"\"\n",
    "    Plot sampled data and its DFT data\n",
    "    :param freq Sample frequency:int\n",
    "    :param sample_data Sampled data:np.array\n",
    "    :param fft_data DFT result of sample_data\n",
    "    :return None\n",
    "    \"\"\"\n",
    "    plotVertical(\n",
    "        f'Sample Rate {freq}Hz',\n",
    "        [\n",
    "            (sample_data, 0, 'Sample'),\n",
    "            (np.absolute(fft_data), 0, 'Re[DFT]'),\n",
    "            (np.angle(fft_data), 0, 'Im[DFT]')\n",
    "        ]\n",
    "    )\n",
    "\n",
    "\n",
    "for exp in range(0, 16):\n",
    "    hz = 2**exp\n",
    "    sample_data = sample(hz)\n",
    "    fft_data = np.fft.fft(sample_data)\n",
    "    # Check if fft result not all zero\n",
    "    if fft_data.any():\n",
    "        plotSample(hz, sample_data, fft_data)\n"
   ]
  },
  {
   "cell_type": "code",
   "execution_count": 5,
   "metadata": {},
   "outputs": [
    {
     "name": "stdout",
     "output_type": "stream",
     "text": [
      "Freq Important:205.078125\n",
      "Freq Noise:386.71875\n"
     ]
    },
    {
     "name": "stderr",
     "output_type": "stream",
     "text": [
      "C:\\Users\\14491\\AppData\\Local\\Temp/ipykernel_17416/364491611.py:20: RuntimeWarning: More than 20 figures have been opened. Figures created through the pyplot interface (`matplotlib.pyplot.figure`) are retained until explicitly closed and may consume too much memory. (To control this warning, see the rcParam `figure.max_open_warning`).\n",
      "  _, axe = plt.subplots(row, 1, sharex=False, sharey=False)\n"
     ]
    },
    {
     "data": {
      "application/vnd.jupyter.widget-view+json": {
       "model_id": "776641f89fbd41689a9809d5d8c9cb6d",
       "version_major": 2,
       "version_minor": 0
      },
      "text/plain": [
       "Canvas(toolbar=Toolbar(toolitems=[('Home', 'Reset original view', 'home', 'home'), ('Back', 'Back to previous …"
      ]
     },
     "metadata": {},
     "output_type": "display_data"
    },
    {
     "name": "stderr",
     "output_type": "stream",
     "text": [
      "C:\\Users\\14491\\AppData\\Local\\Packages\\PythonSoftwareFoundation.Python.3.9_qbz5n2kfra8p0\\LocalCache\\local-packages\\Python39\\site-packages\\numpy\\ma\\core.py:3379: ComplexWarning: Casting complex values to real discards the imaginary part\n",
      "  _data[indx] = dval\n",
      "C:\\Users\\14491\\AppData\\Local\\Packages\\PythonSoftwareFoundation.Python.3.9_qbz5n2kfra8p0\\LocalCache\\local-packages\\Python39\\site-packages\\matplotlib\\cbook\\__init__.py:1333: ComplexWarning: Casting complex values to real discards the imaginary part\n",
      "  return np.asarray(x, float)\n",
      "C:\\Users\\14491\\AppData\\Local\\Packages\\PythonSoftwareFoundation.Python.3.9_qbz5n2kfra8p0\\LocalCache\\local-packages\\Python39\\site-packages\\matplotlib\\cbook\\__init__.py:1333: ComplexWarning: Casting complex values to real discards the imaginary part\n",
      "  return np.asarray(x, float)\n",
      "C:\\Users\\14491\\AppData\\Local\\Packages\\PythonSoftwareFoundation.Python.3.9_qbz5n2kfra8p0\\LocalCache\\local-packages\\Python39\\site-packages\\numpy\\ma\\core.py:3379: ComplexWarning: Casting complex values to real discards the imaginary part\n",
      "  _data[indx] = dval\n",
      "C:\\Users\\14491\\AppData\\Local\\Packages\\PythonSoftwareFoundation.Python.3.9_qbz5n2kfra8p0\\LocalCache\\local-packages\\Python39\\site-packages\\matplotlib\\cbook\\__init__.py:1333: ComplexWarning: Casting complex values to real discards the imaginary part\n",
      "  return np.asarray(x, float)\n",
      "C:\\Users\\14491\\AppData\\Local\\Packages\\PythonSoftwareFoundation.Python.3.9_qbz5n2kfra8p0\\LocalCache\\local-packages\\Python39\\site-packages\\matplotlib\\cbook\\__init__.py:1333: ComplexWarning: Casting complex values to real discards the imaginary part\n",
      "  return np.asarray(x, float)\n",
      "C:\\Users\\14491\\AppData\\Local\\Packages\\PythonSoftwareFoundation.Python.3.9_qbz5n2kfra8p0\\LocalCache\\local-packages\\Python39\\site-packages\\numpy\\ma\\core.py:3379: ComplexWarning: Casting complex values to real discards the imaginary part\n",
      "  _data[indx] = dval\n",
      "C:\\Users\\14491\\AppData\\Local\\Packages\\PythonSoftwareFoundation.Python.3.9_qbz5n2kfra8p0\\LocalCache\\local-packages\\Python39\\site-packages\\matplotlib\\cbook\\__init__.py:1333: ComplexWarning: Casting complex values to real discards the imaginary part\n",
      "  return np.asarray(x, float)\n",
      "C:\\Users\\14491\\AppData\\Local\\Packages\\PythonSoftwareFoundation.Python.3.9_qbz5n2kfra8p0\\LocalCache\\local-packages\\Python39\\site-packages\\matplotlib\\cbook\\__init__.py:1333: ComplexWarning: Casting complex values to real discards the imaginary part\n",
      "  return np.asarray(x, float)\n",
      "C:\\Users\\14491\\AppData\\Local\\Packages\\PythonSoftwareFoundation.Python.3.9_qbz5n2kfra8p0\\LocalCache\\local-packages\\Python39\\site-packages\\numpy\\ma\\core.py:3379: ComplexWarning: Casting complex values to real discards the imaginary part\n",
      "  _data[indx] = dval\n",
      "C:\\Users\\14491\\AppData\\Local\\Packages\\PythonSoftwareFoundation.Python.3.9_qbz5n2kfra8p0\\LocalCache\\local-packages\\Python39\\site-packages\\matplotlib\\cbook\\__init__.py:1333: ComplexWarning: Casting complex values to real discards the imaginary part\n",
      "  return np.asarray(x, float)\n"
     ]
    },
    {
     "data": {
      "application/vnd.jupyter.widget-view+json": {
       "model_id": "5e7550209c524b19a8ccbe403f1d7b07",
       "version_major": 2,
       "version_minor": 0
      },
      "text/plain": [
       "Canvas(toolbar=Toolbar(toolitems=[('Home', 'Reset original view', 'home', 'home'), ('Back', 'Back to previous …"
      ]
     },
     "metadata": {},
     "output_type": "display_data"
    }
   ],
   "source": [
    "sample_4096 = sample(3000)\n",
    "fft_sample_4096 = np.fft.fft(sample_4096)\n",
    "\n",
    "ifft_sample_4096 = np.fft.ifft(fft_sample_4096)\n",
    "\n",
    "F_0 = 3000 / 1024\n",
    "F_Impotant = F_0 * np.argmax(fft_sample_4096[0:512])\n",
    "\n",
    "print(f\"Freq Important:{F_Impotant}\")\n",
    "\n",
    "F_Noise = F_0 * (np.argmax(fft_sample_4096[100:512]) + 99)\n",
    "\n",
    "print(f\"Freq Noise:{F_Noise}\")\n",
    "\n",
    "fft_sample_4096_noise = fft_sample_4096.copy()\n",
    "fft_sample_4096_noise[0:100] = 0\n",
    "fft_sample_4096_noise[-100:] = 0\n",
    "\n",
    "ifft_sample_4096_noise = np.fft.ifft(fft_sample_4096_noise)\n",
    "\n",
    "fft_sample_4096_ampl = fft_sample_4096.copy()\n",
    "fft_sample_4096_ampl[100:-100] = 0\n",
    "\n",
    "ifft_sample_4096_ampl = np.fft.ifft(fft_sample_4096_ampl)\n",
    "\n",
    "result = ifft_sample_4096_ampl + ifft_sample_4096_noise\n",
    "fft_result = np.fft.fft(result)\n",
    "\n",
    "plotVertical(\n",
    "    'Sample IFFT 4096',\n",
    "    [\n",
    "        (sample_4096, 0, 'sample origion'),\n",
    "        (abs(fft_sample_4096), 0, 'fft'),\n",
    "        (ifft_sample_4096, 0, 'ifft'),\n",
    "        (abs(fft_sample_4096_noise), 0, 'noise'),\n",
    "        (ifft_sample_4096_noise, 0, 'noise'),\n",
    "        (abs(fft_sample_4096_ampl), 0, 'ampl'),\n",
    "        (ifft_sample_4096_ampl, 0, 'ampl'),\n",
    "        (result, 0, 'result'),\n",
    "        (np.absolute(fft_result), 0, 'result'),\n",
    "    ]\n",
    ")\n",
    "\n",
    "x = np.linspace(0, 10, 1024)\n",
    "ampl = np.sin(x * 204 * 2 * np.pi) * 0.25\n",
    "y = np.sin(x * 2040 * 2 * np.pi) * (1+ampl)\n",
    "\n",
    "y_fft = np.fft.fft(y)\n",
    "\n",
    "plotVertical(\n",
    "    'Sample IFFT 4096',\n",
    "    [\n",
    "        (ampl, 0, 'ampl'),\n",
    "        (y, 0, 'y'),\n",
    "        (abs(y_fft), 0, 'fft'),\n",
    "    ]\n",
    ")\n"
   ]
  }
 ],
 "metadata": {
  "interpreter": {
   "hash": "cf09fe04e0b152d805dbf46488a22ab1fe67adade06232065d1a31a038bbeb91"
  },
  "kernelspec": {
   "display_name": "Python 3.9.7 64-bit (windows store)",
   "name": "python3"
  },
  "language_info": {
   "codemirror_mode": {
    "name": "ipython",
    "version": 3
   },
   "file_extension": ".py",
   "mimetype": "text/x-python",
   "name": "python",
   "nbconvert_exporter": "python",
   "pygments_lexer": "ipython3",
   "version": "3.9.7"
  }
 },
 "nbformat": 4,
 "nbformat_minor": 4
}
