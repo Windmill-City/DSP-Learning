{
 "cells": [
  {
   "cell_type": "code",
   "execution_count": 58,
   "metadata": {},
   "outputs": [],
   "source": [
    "# Initialization for this notebook.\n",
    "\n",
    "import numpy as np\n",
    "import matplotlib.pyplot as plt\n",
    "\n",
    "# Un-comment the following line to use interactive matplotlib widget.\n",
    "#%matplotlib widget\n",
    "\n",
    "# Returns a n seqence based on the offset provided.\n",
    "seq_n = lambda seq, noff: np.arange(seq.size) - noff\n",
    "\n",
    "# Pretty print a sequence.\n",
    "seq_print = lambda seq, noff, name: print('noff_%s =%2d, %s =' % (name, noff, name), seq.astype(float))\n",
    "\n",
    "# Common sequence generators.\n",
    "seq_delta = lambda n_min, n_max: (np.array([ 1 if n==0 else 0 for n in range(n_min, n_max+1)]), 0 - n_min)\n",
    "seq_u = lambda n_min, n_max: (np.array([ 0 if n<0 else 1 for n in range(n_min, n_max+1)]), 0-n_min)\n",
    "seq_R_N = lambda N, n_min, n_max: (np.array([ 0 if (n<0 or n>=N) else 1 for n in range(n_min, n_max+1)]), 0-n_min)\n",
    "seq_real_exp = lambda a, n_min, n_max: (np.array([ 0 if n<0 else a**n for n in range(n_min, n_max+1)]), 0-n_min)\n",
    "seq_complex_exp = lambda sigma, omega_0, n_min, n_max: (np.array([ np.exp((sigma + 1j*omega_0)*n) for n in range(n_min, n_max+1)]), 0-n_min)\n",
    "seq_sin = lambda A, omega_0, phi, n_min, n_max: (np.array([ A*np.sin(omega_0*n + phi) for n in range(n_min, n_max+1)]), 0-n_min)\n",
    "\n",
    "# Returns a flipped sequence.\n",
    "seq_flip = lambda seq, noff: (seq[::-1], seq.size - noff - 1)\n",
    "\n",
    "# Returns a shifted sequence.\n",
    "seq_shift = lambda seq, noff, m: (seq, noff - m)\n",
    "\n",
    "# Align 2 sequences\n",
    "def seq_align(seq1, noff1, seq2, noff2):\n",
    "    \"\"\"Align 2 sequences\"\"\"\n",
    "    n_min = min(-noff1, -noff2)\n",
    "    n_max = max(seq1.size-noff1-1, seq2.size-noff2-1)\n",
    "    seq1 = np.pad(seq1, (-noff1-n_min, n_max-(seq1.size-noff1-1)), constant_values=(0,0))\n",
    "    noff1 = -n_min\n",
    "    seq2 = np.pad(seq2, (-noff2-n_min, n_max-(seq2.size-noff2-1)), constant_values=(0,0))\n",
    "    noff2 = -n_min\n",
    "    return (seq1, noff1, seq2, noff2)\n",
    "\n",
    "def plotVertical(title, plotData):\n",
    "    \"\"\"\n",
    "        Parameters:\n",
    "        title: plot title string\n",
    "        plotData: tuple array, contains data to plot\n",
    "        [(seq, noff, label), ...]\n",
    "    \"\"\"\n",
    "    # Get the row number\n",
    "    row = len(plotData)\n",
    "    # Create a plot, which plots data sequence vertically, shares the same X and Y axis\n",
    "    _, axe = plt.subplots(row, 2, sharex=True, sharey=True)\n",
    "    axe[0][0].set_title(title)\n",
    "    for i in range(row):\n",
    "        # Get the arguments\n",
    "        seq, offset, label = plotData[i]\n",
    "        # Create a stem plot for seq\n",
    "        axe[i][0].stem(seq_n(seq, offset), seq.real)\n",
    "        # Set Y label\n",
    "        axe[i][0].set_ylabel(f'Re[{label}]')\n",
    "        # Create a stem plot for seq.imag\n",
    "        axe[i][1].stem(seq_n(seq, offset), seq.imag)\n",
    "        # Set Y label\n",
    "        axe[i][1].set_ylabel(f'Im[{label}]')\n",
    "    # Set X label at the bottom\n",
    "    axe[-1][0].set_xlabel('n')\n",
    "    axe[-1][1].set_xlabel('n')\n",
    "\n",
    "def seq_conv(seq1, noff1, seq2, noff2):\n",
    "    \"\"\"\n",
    "    Returns the discrete, linear convolution of two sequences.\n",
    "\n",
    "    Parameters:\n",
    "        seq1, seq2: array_like\n",
    "            The 2 input sequences.\n",
    "        noff1, noff： int\n",
    "            n's offsets of the 2 input sequences.\n",
    "    Returns: (seq, noff)\n",
    "        seq: array_like\n",
    "            The output sequence.\n",
    "        noff: int\n",
    "            n's offset of the output sequence.\n",
    "    \"\"\"\n",
    "    # Flip seq2\n",
    "    seq2Flipped, noff2Flipped = seq_flip(seq2, noff2)\n",
    "    # Range of the result sequence, nEnd is exclusive\n",
    "    (nStart, nEnd) = (-(noff1 + noff2),\n",
    "                      (seq2.size - noff2 - 1) + (seq1.size - noff1 - 1) + 1)\n",
    "    # Result sequence length\n",
    "    resultLen = nEnd - nStart\n",
    "    resultSeq = np.empty([resultLen], dtype=seq1.dtype)\n",
    "    # Foreach n to create the result sequence\n",
    "    for n in range(nStart, nEnd):\n",
    "        # Shift h(n), which is seq2\n",
    "        seq2Shifted, noff2Shifted = seq_shift(seq2Flipped, noff2Flipped, n)\n",
    "        # Align the h(n) and x(n)\n",
    "        seq1Aligned, _, seq2Aligned, _ = seq_align(\n",
    "            seq1, noff1, seq2Shifted, noff2Shifted)\n",
    "        # Multiply two aligned sequence and sum it up\n",
    "        resultSeq[n - nStart] = (seq1Aligned * seq2Aligned).sum()\n",
    "    # Return the result sequence and its noff\n",
    "    return resultSeq, noff1\n"
   ]
  },
  {
   "cell_type": "markdown",
   "metadata": {},
   "source": [
    "# 习题2.9\n",
    "\n",
    "1. $ \\delta(n-n_{0}) $\n",
    "\n",
    "## 理论计算\n",
    "\n",
    "$$ X(e^{j\\omega})=DTFT[x(n)]=\\tilde{X}(e^{j\\omega})==e^{-j{\\omega}n_{0}} $$\n",
    "\n",
    "## 编程验证\n"
   ]
  },
  {
   "cell_type": "code",
   "execution_count": 59,
   "metadata": {},
   "outputs": [
    {
     "name": "stdout",
     "output_type": "stream",
     "text": [
      "X:[ 1.        +0.j          0.84125353-0.54064082j  0.41541501-0.909632j\n",
      " -0.14231484-0.98982144j -0.65486073-0.75574957j -0.95949297-0.28173256j\n",
      " -0.95949297+0.28173256j -0.65486073+0.75574957j -0.14231484+0.98982144j\n",
      "  0.41541501+0.909632j    0.84125353+0.54064082j]\n",
      "DTFT:[ 1.        +0.j          0.84125353-0.54064082j  0.41541501-0.909632j\n",
      " -0.14231484-0.98982144j -0.65486073-0.75574957j -0.95949297-0.28173256j\n",
      " -0.95949297+0.28173256j -0.65486073+0.75574957j -0.14231484+0.98982144j\n",
      "  0.41541501+0.909632j    0.84125353+0.54064082j]\n",
      "DTFT[x(n)] equals X(jω)\n"
     ]
    },
    {
     "data": {
      "image/png": "[encoded data removed]",
      "text/plain": [
       "<Figure size 432x288 with 4 Axes>"
      ]
     },
     "metadata": {
      "needs_background": "light"
     },
     "output_type": "display_data"
    }
   ],
   "source": [
    "def seq_x(n_min, n_max, n_0):\n",
    "    \"\"\"\n",
    "    Generate sequence by $ \\delta(n-n_{0}) $\n",
    "    \"\"\"\n",
    "    seq, noff = seq_delta(n_min, n_max)\n",
    "    return seq_shift(seq, noff, n_0)\n",
    "\n",
    "\n",
    "def seq_X(n_min, n_max, n_0):\n",
    "    \"\"\"\n",
    "    Generate sequence by $ e^{-j{\\omega}n_{0}} $\n",
    "    \"\"\"\n",
    "    return np.array([np.exp(-1j*omega*n_0)\n",
    "                     for omega in np.linspace(0, 2*np.pi, n_max-n_min+1, endpoint=False)]), 0-n_min\n",
    "\n",
    "\n",
    "def test_seq_X():\n",
    "    # Get sequence range\n",
    "    n_min, n_max = -1, 9\n",
    "    # Get n_0\n",
    "    n_0 = 1\n",
    "    # Get sequence x\n",
    "    x, noff_x = seq_x(n_min, n_max, n_0)\n",
    "    # Get DTFT[x(n)]\n",
    "    dtft_x, noff_dtft_x = np.fft.fft(x), noff_x\n",
    "    # Get $ X(j\\omega) $\n",
    "    X, noff_X = seq_X(n_min, n_max, n_0)\n",
    "    # Check if DTFT[x(n)] == $ X(j\\omega) $\n",
    "    assert (abs(X - dtft_x) <\n",
    "            0.0001).all(), f'\\nExpect:\\n{dtft_x}\\nActual:\\n{X}'\n",
    "    print(f'X:{X}\\nDTFT:{dtft_x}')\n",
    "    print('DTFT[x(n)] equals X(jω)')\n",
    "    plotVertical('',\n",
    "                 [(X, noff_X, '$ X(j\\omega) $'),\n",
    "                 (dtft_x, noff_dtft_x, '$ DTFT[x(n)] $')])\n",
    "\n",
    "\n",
    "test_seq_X()\n"
   ]
  },
  {
   "cell_type": "markdown",
   "metadata": {},
   "source": [
    "2. $ e^{-an}u(n) $\n",
    "\n",
    "## 理论计算\n",
    "\n",
    "$$\n",
    "a^{n}u(n),\\quad|a|<1\\Longleftrightarrow\\frac{1}{1-ae^{-j\\omega}}\\\\\n",
    "X(e^{j\\omega})=DTFT[x(n)]=\\tilde{X}(e^{j\\omega})=\\frac{1}{1-e^{-a}e^{-j\\omega}}\n",
    "$$\n",
    "\n",
    "## 编程验证\n"
   ]
  },
  {
   "cell_type": "code",
   "execution_count": 60,
   "metadata": {},
   "outputs": [
    {
     "name": "stdout",
     "output_type": "stream",
     "text": [
      "X:[1.58197671+0.j         1.33724409-0.38516667j 1.02107698-0.40332523j\n",
      " 0.84864256-0.29364664j 0.76734134-0.17192214j 0.73479853-0.05628857j\n",
      " 0.73479853+0.05628857j 0.76734134+0.17192214j 0.84864256+0.29364664j\n",
      " 1.02107698+0.40332523j 1.33724409+0.38516667j]\n",
      "DTFT:[1.58195029+0.j         1.33722176-0.38516024j 1.02105993-0.4033185j\n",
      " 0.84862839-0.29364174j 0.76732853-0.17191927j 0.73478625-0.05628763j\n",
      " 0.73478625+0.05628763j 0.76732853+0.17191927j 0.84862839+0.29364174j\n",
      " 1.02105993+0.4033185j  1.33722176+0.38516024j]\n",
      "DTFT[x(n)] equals X(jω)\n"
     ]
    },
    {
     "data": {
      "image/png": "[encoded data removed]",
      "text/plain": [
       "<Figure size 432x288 with 4 Axes>"
      ]
     },
     "metadata": {
      "needs_background": "light"
     },
     "output_type": "display_data"
    }
   ],
   "source": [
    "def seq_x(n_min, n_max, a):\n",
    "    \"\"\"\n",
    "    Generate sequence by $ e^{-an}u(n) $\n",
    "    \"\"\"\n",
    "    seq, noff = seq_u(n_min, n_max)\n",
    "    return seq*np.array([np.exp(-a*n) for n in range(n_min, n_max+1)]), noff\n",
    "\n",
    "\n",
    "def seq_X(n_min, n_max, a):\n",
    "    \"\"\"\n",
    "    Generate sequence by $ \\frac{1}{1-e^{-a}e^{-j\\omega}} $\n",
    "    \"\"\"\n",
    "    return np.array([1/(1-np.exp(-1j*omega-a))\n",
    "                     for omega in np.linspace(0, 2*np.pi, n_max-n_min+1, endpoint=False)]), 0-n_min\n",
    "\n",
    "\n",
    "def test_seq_X():\n",
    "    # Get sequence range\n",
    "    n_min, n_max = 0, 10\n",
    "    # Get a\n",
    "    a = 1\n",
    "    # Get sequence x\n",
    "    x, noff_x = seq_x(n_min, n_max, a)\n",
    "    # Get DTFT[x(n)]\n",
    "    dtft_x, noff_dtft_x = np.fft.fft(x), noff_x\n",
    "    # Get $ X(j\\omega) $\n",
    "    X, noff_X = seq_X(n_min, n_max, a)\n",
    "    # Check if DTFT[x(n)] == $ X(j\\omega) $\n",
    "    assert (abs(X - dtft_x) <\n",
    "            0.0001).all(), f'\\nExpect:\\n{dtft_x}\\nActual:\\n{X}'\n",
    "    print(f'X:{X}\\nDTFT:{dtft_x}')\n",
    "    print('DTFT[x(n)] equals X(jω)')\n",
    "    plotVertical('',\n",
    "                 [(X, noff_X, '$ X(j\\omega) $'),\n",
    "                  (dtft_x, noff_dtft_x, '$ DTFT[x(n)] $')])\n",
    "\n",
    "\n",
    "test_seq_X()\n"
   ]
  },
  {
   "cell_type": "markdown",
   "metadata": {},
   "source": [
    "3. $ e^{-(a+j\\omega_{0})n}u(n) $\n",
    "\n",
    "## 理论计算\n",
    "\n",
    "$$\n",
    "a^{n}u(n),\\quad|a|<1\\Longleftrightarrow\\frac{1}{1-ae^{-j\\omega}}\\\\\n",
    "X(e^{j\\omega})=DTFT[x(n)]=\\tilde{X}(e^{j\\omega})=\\frac{1}{1-e^{-a}e^{-j(\\omega+\\omega_{0})}}\n",
    "$$\n",
    "\n",
    "## 编程验证\n"
   ]
  },
  {
   "cell_type": "code",
   "execution_count": 61,
   "metadata": {},
   "outputs": [
    {
     "name": "stdout",
     "output_type": "stream",
     "text": [
      "X:[0.96656502+0.38070122j 1.24756899+0.41560206j 1.56261712+0.12688039j\n",
      " 1.42639668-0.32890838j 1.08518189-0.41943608j 0.88030129-0.3236046j\n",
      " 0.78176706-0.20143836j 0.73949031-0.08428295j 0.7320135 +0.02848949j\n",
      " 0.75575526+0.14284581j 0.82234695+0.26333508j]\n",
      "DTFT:[0.96657102+0.38068494j 1.24757546+0.41558107j 1.56261866+0.12685425j\n",
      " 1.42639066-0.32893207j 1.08517449-0.41945405j 0.88029556-0.32361918j\n",
      " 0.7817634 -0.20145134j 0.73948863-0.08429527j 0.73201371+0.02847726j\n",
      " 0.75575736+0.14283314j 0.82235105+0.26332125j]\n",
      "DTFT[x(n)] equals X(jω)\n"
     ]
    },
    {
     "data": {
      "image/png": "[encoded data removed]",
      "text/plain": [
       "<Figure size 432x288 with 4 Axes>"
      ]
     },
     "metadata": {
      "needs_background": "light"
     },
     "output_type": "display_data"
    }
   ],
   "source": [
    "def seq_x(n_min, n_max, a, omega_0):\n",
    "    \"\"\"\n",
    "    Generate sequence by $ e^{-(a+j\\omega_{0})n}u(n) $\n",
    "    \"\"\"\n",
    "    seq, noff = seq_u(n_min, n_max)\n",
    "    return seq*np.array([np.exp(-(a+1j*omega_0)*n) for n in range(n_min, n_max+1)]), noff\n",
    "\n",
    "\n",
    "def seq_X(n_min, n_max, a, omega_0):\n",
    "    \"\"\"\n",
    "    Generate sequence by $ \\frac{1}{1-e^{-a}e^{-j(\\omega+\\omega_{0})}} $\n",
    "    \"\"\"\n",
    "    return np.array([1/(1-np.exp(-1j*(omega+omega_0)-a))\n",
    "                     for omega in np.linspace(0, 2*np.pi, n_max-n_min+1, endpoint=False)]), 0-n_min\n",
    "\n",
    "\n",
    "def test_seq_X():\n",
    "    # Get sequence range\n",
    "    n_min, n_max = 0, 10\n",
    "    # Get a, omega_0\n",
    "    a = 1\n",
    "    omega_0 = 5\n",
    "    # Get sequence x\n",
    "    x, noff_x = seq_x(n_min, n_max, a, omega_0)\n",
    "    # Get DTFT[x(n)]\n",
    "    dtft_x, noff_dtft_x = np.fft.fft(x), noff_x\n",
    "    # Get $ X(j\\omega) $\n",
    "    X, noff_X = seq_X(n_min, n_max, a, omega_0)\n",
    "    # Check if DTFT[x(n)] == $ X(j\\omega) $\n",
    "    assert (abs(X - dtft_x) <\n",
    "            0.0001).all(), f'\\nExpect:\\n{dtft_x}\\nActual:\\n{X}'\n",
    "    print(f'X:{X}\\nDTFT:{dtft_x}')\n",
    "    print('DTFT[x(n)] equals X(jω)')\n",
    "    plotVertical('',\n",
    "                 [(X, noff_X, '$ X(j\\omega) $'),\n",
    "                  (dtft_x, noff_dtft_x, '$ DTFT[x(n)] $')])\n",
    "\n",
    "\n",
    "test_seq_X()\n"
   ]
  }
 ],
 "metadata": {
  "interpreter": {
   "hash": "cf09fe04e0b152d805dbf46488a22ab1fe67adade06232065d1a31a038bbeb91"
  },
  "kernelspec": {
   "display_name": "Python 3.9.7 64-bit (windows store)",
   "name": "python3"
  },
  "language_info": {
   "codemirror_mode": {
    "name": "ipython",
    "version": 3
   },
   "file_extension": ".py",
   "mimetype": "text/x-python",
   "name": "python",
   "nbconvert_exporter": "python",
   "pygments_lexer": "ipython3",
   "version": "3.9.7"
  },
  "orig_nbformat": 4
 },
 "nbformat": 4,
 "nbformat_minor": 2
}
